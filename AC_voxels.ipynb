{
 "cells": [
  {
   "cell_type": "markdown",
   "metadata": {},
   "source": [
    "## 識別まとめ用：各ボクセルのTimeSeries"
   ]
  },
  {
   "cell_type": "markdown",
   "metadata": {},
   "source": [
    "各被験者ごとに全ボクセルの識別率をまとめたcsv,pngを出力  \n",
    "* ACCURAY\\_(被験者名)\\_(チャンネル数)\\_voxels.csv/ACCURACY\\_(被験者名)\\_(チャンネル数)\\_voxels.png  \n",
    "  \n",
    "全被験者の全ボクセルの識別率をまとめたcsv,pngを出力  \n",
    "* ACCURACY\\_allsub\\_(チャンネル数)\\_voxels.csv/ACCYRACY\\_allsub_voxels.png"
   ]
  },
  {
   "cell_type": "code",
   "execution_count": 2,
   "metadata": {
    "collapsed": true
   },
   "outputs": [],
   "source": [
    "import numpy as np\n",
    "import pandas as pd\n",
    "import sys\n",
    "import os\n",
    "\n",
    "# .pyで実行するときは%matplotlib inlineをコメントアウト！！！！\n",
    "import matplotlib.pyplot as plt\n",
    "%matplotlib inline"
   ]
  },
  {
   "cell_type": "code",
   "execution_count": 101,
   "metadata": {
    "collapsed": true
   },
   "outputs": [],
   "source": [
    "#args = sys.argv\n",
    "#PATH = args[1]\n",
    "\n",
    "# jupyter notebookのときはここで指定\n",
    "PATH = '../State-2fe_Active/'\n",
    "\n",
    "\n",
    "# ------- 書き換え ------- #\n",
    "\n",
    "resultName = 'Result1111voxels'\n",
    "\n",
    "# ----------------------- #\n",
    "\n",
    "# Result[日付]のディレクトリ名・パス\n",
    "DIR_result = PATH + resultName\n",
    "PATH_result = DIR_result + '/'\n",
    "\n",
    "# すでに存在する場合は何もせず，存在していない場合はディレクトリ作成\n",
    "if not os.path.exists(DIR_result):\n",
    "    os.mkdir(DIR_result) \n",
    "\n",
    "\n",
    "DIR_sub = ['20181029rn/', '20181029su/', '20181029tm/']\n",
    "DIR_ch = ['64ch/', 'mb/']\n",
    "DIR_data = '8divData/'\n",
    "\n",
    "nameList = ['SubjectA', 'SubjectB', 'SubjectC']\n",
    "\n",
    "csvName = ['ACCURACY[loo]_voxels_SVM.csv']\n",
    "\n",
    "ch_index = ['64ch', 'mb']\n"
   ]
  },
  {
   "cell_type": "markdown",
   "metadata": {},
   "source": [
    "# AcBar関数  "
   ]
  },
  {
   "cell_type": "code",
   "execution_count": 89,
   "metadata": {
    "collapsed": true
   },
   "outputs": [],
   "source": [
    "def AcBar(ac_plt, name):\n",
    "\n",
    "    plt.figure()\n",
    "\n",
    "    ac_plt.plot.bar(color = ['gray'],\n",
    "               width = 0.8, figsize = (16,9), rot = 0, fontsize = 15, legend='reverse',\n",
    "               yticks = [10,20,30,40,50,60,70,80,90,100])\n",
    "\n",
    "    PATH_plt = PATH + PATH_result + 'ACCURACY_' + name + '_voxels.png'\n",
    "    print(PATH_plt)\n",
    "    plt.savefig(PATH_plt)\n",
    "    \n",
    "    plt.close('all')\n",
    "\n"
   ]
  },
  {
   "cell_type": "markdown",
   "metadata": {},
   "source": [
    "# AcBarAll関数"
   ]
  },
  {
   "cell_type": "code",
   "execution_count": 90,
   "metadata": {
    "collapsed": true
   },
   "outputs": [],
   "source": [
    "def AcBarAll(ac_plt, name):\n",
    "    \n",
    "    plt.figure()\n",
    "\n",
    "    ac_plt.plot.bar(color = ['darkblue', 'royalblue', 'cornflowerblue', 'lightsteelblue', 'powderblue', 'paleturquoise', 'lavender'],\n",
    "               width = 0.8, figsize = (16,9), rot = 0, fontsize = 15, legend='reverse',\n",
    "               yticks = [10,20,30,40,50,60,70,80,90,100])\n",
    "\n",
    "    PATH_plt = PATH + PATH_result + 'ACCURACY_' + name + '_voxels.png'\n",
    "    print(PATH_plt)\n",
    "    plt.savefig(PATH_plt)\n",
    "    \n",
    "    plt.close('all')"
   ]
  },
  {
   "cell_type": "markdown",
   "metadata": {},
   "source": [
    "# AcBarAM関数"
   ]
  },
  {
   "cell_type": "code",
   "execution_count": 97,
   "metadata": {
    "collapsed": true
   },
   "outputs": [],
   "source": [
    "def AcBarAM(ac_plt, name):\n",
    "    \n",
    "    plt.figure()\n",
    "\n",
    "    ac_plt.plot.bar(color = ['darkblue', 'royalblue', 'cornflowerblue', 'lightsteelblue', 'powderblue', 'paleturquoise', 'lavender',\n",
    "                             'darkred', 'firebrick', 'crimson', 'red', 'salmon', 'lightsalmon', 'peachpuff'],\n",
    "               width = 0.8, figsize = (16,9), rot = 0, fontsize = 15, legend='reverse',\n",
    "               yticks = [10,20,30,40,50,60,70,80,90,100])\n",
    "\n",
    "    PATH_plt = PATH + PATH_result + 'ACCURACY_' + name + '_voxels.png'\n",
    "    print(PATH_plt)\n",
    "    plt.savefig(PATH_plt)\n",
    "    \n",
    "    plt.close('all')"
   ]
  },
  {
   "cell_type": "code",
   "execution_count": 92,
   "metadata": {},
   "outputs": [
    {
     "name": "stdout",
     "output_type": "stream",
     "text": [
      "--------- all subject list ----------\n",
      "../State-2fe_Motor/../State-2fe_Motor/Result1111voxels/ACCURACY_SubjectA_64ch_voxels.png\n",
      "../State-2fe_Motor/../State-2fe_Motor/Result1111voxels/ACCURACY_SubjectB_64ch_voxels.png\n",
      "../State-2fe_Motor/../State-2fe_Motor/Result1111voxels/ACCURACY_SubjectC_64ch_voxels.png\n",
      "../State-2fe_Motor/../State-2fe_Motor/Result1111voxels/ACCURACY_allsub_64ch_voxels.csv\n",
      "../State-2fe_Motor/../State-2fe_Motor/Result1111voxels/ACCURACY_allsub_64ch_voxels.png\n",
      "../State-2fe_Motor/../State-2fe_Motor/Result1111voxels/ACCURACY_SubjectA_mb_voxels.png\n",
      "../State-2fe_Motor/../State-2fe_Motor/Result1111voxels/ACCURACY_SubjectB_mb_voxels.png\n",
      "../State-2fe_Motor/../State-2fe_Motor/Result1111voxels/ACCURACY_SubjectC_mb_voxels.png\n",
      "../State-2fe_Motor/../State-2fe_Motor/Result1111voxels/ACCURACY_allsub_mb_voxels.csv\n",
      "../State-2fe_Motor/../State-2fe_Motor/Result1111voxels/ACCURACY_allsub_mb_voxels.png\n"
     ]
    }
   ],
   "source": [
    "######## 各被験者識別率 ##########\n",
    "\n",
    "print('--------- all subject list ----------')\n",
    "\n",
    "\n",
    "for ch in DIR_ch:\n",
    "    \n",
    "    ac_all = pd.DataFrame(index = [], columns = [])\n",
    "\n",
    "    count = 0\n",
    "    \n",
    "    for sub in DIR_sub:\n",
    "        \n",
    "        for file in csvName:\n",
    "        \n",
    "            # 読み込むファイルまでのパス\n",
    "            PATH_ac = PATH + sub + ch + DIR_data + file\n",
    "            \n",
    "            # csv読み込み\n",
    "            ac_voxels = pd.read_csv(PATH_ac, index_col = 0, header = 0)\n",
    "            \n",
    "            # 被験者,ヘッドコイル名取得\n",
    "            sub_name = nameList[count]\n",
    "            ch_name = ch.split('/')[0]\n",
    "            outputName = sub_name + '_' + ch_name\n",
    "            \n",
    "            ac_voxels.columns = [sub_name]\n",
    "            \n",
    "            AcBar(ac_voxels, outputName)\n",
    "            \n",
    "            ac_all = pd.concat([ac_all, ac_voxels], axis = 1)\n",
    "        \n",
    "        count = count + 1\n",
    "            \n",
    "    ac_all = ac_all.T\n",
    "\n",
    "    # csv書きだし\n",
    "    PATH_csv = PATH + PATH_result + 'ACCURACY_allsub_' + ch_name + '_voxels.csv'\n",
    "    print(PATH_csv)\n",
    "\n",
    "    ac_all.to_csv(PATH_csv)\n",
    "    \n",
    "    AcBarAll(ac_all, 'allsub_' + ch_name)\n",
    "    \n",
    "    "
   ]
  },
  {
   "cell_type": "code",
   "execution_count": 102,
   "metadata": {},
   "outputs": [],
   "source": [
    "# --------- 上記をActiveとMotorで実行した後 ------------- #\n",
    "\n",
    "####### 各被験者，全チャンネル #########\n",
    "\n",
    "indexName = ['SubjectA', 'SubjectB', 'SubjectC']\n",
    "colNameA = ['ActiveVoxel1', 'ActiveVoxel2', 'ActiveVoxel3', 'ActiveVoxel4', 'ActiveVoxel5', 'ActiveVoxel6', 'ActiveVoxel7']\n",
    "colNameM = ['MotorVoxel1', 'MotorVoxel2', 'MotorVoxel3', 'MotorVoxel4', 'MotorVoxel5', 'MotorVoxel6', 'MotorVoxel7']\n",
    "\n",
    "\n",
    "PATH_a64 = '../State-2fe_Active/' + resultName + '/ACCURACY_allsub_64ch_voxels.csv'\n",
    "data_a64 = pd.read_csv(PATH_a64, header = 0, index_col = 0)\n",
    "data_a64.index = indexName\n",
    "data_a64.columns = colNameA\n",
    "\n",
    "PATH_m64 = '../State-2fe_Motor/' + resultName + '/ACCURACY_allsub_64ch_voxels.csv'\n",
    "data_m64 = pd.read_csv(PATH_m64, header = 0, index_col = 0)\n",
    "data_m64.index = indexName\n",
    "data_m64.columns = colNameM\n",
    "\n",
    "PATH_amb = '../State-2fe_Active/' + resultName + '/ACCURACY_allsub_mb_voxels.csv'\n",
    "data_amb = pd.read_csv(PATH_amb, header = 0, index_col = 0)\n",
    "data_amb.index = indexName\n",
    "data_amb.columns = colNameA\n",
    "\n",
    "PATH_mmb = '../State-2fe_Motor/' + resultName + '/ACCURACY_allsub_mb_voxels.csv'\n",
    "data_mmb = pd.read_csv(PATH_mmb, header = 0, index_col = 0)\n",
    "data_mmb.index = indexName\n",
    "data_mmb.columns = colNameM"
   ]
  },
  {
   "cell_type": "code",
   "execution_count": 103,
   "metadata": {},
   "outputs": [
    {
     "name": "stdout",
     "output_type": "stream",
     "text": [
      "../State-2fe_Active/../State-2fe_Active/Result1111voxels/ACCURACY_64ch_voxels.png\n"
     ]
    }
   ],
   "source": [
    "data_64 = pd.concat([data_a64, data_m64], axis = 1)\n",
    "data_64 = data_64.sort_index()\n",
    "\n",
    "AcBarAM(data_64, '64ch')"
   ]
  },
  {
   "cell_type": "code",
   "execution_count": 104,
   "metadata": {},
   "outputs": [
    {
     "name": "stdout",
     "output_type": "stream",
     "text": [
      "../State-2fe_Active/../State-2fe_Active/Result1111voxels/ACCURACY_mb_voxels.png\n"
     ]
    }
   ],
   "source": [
    "data_mb = pd.concat([data_amb, data_mmb], axis = 1)\n",
    "data_mb = data_mb.sort_index()\n",
    "\n",
    "AcBarAM(data_mb, 'mb')"
   ]
  },
  {
   "cell_type": "code",
   "execution_count": 96,
   "metadata": {},
   "outputs": [
    {
     "data": {
      "text/html": [
       "<div>\n",
       "<style>\n",
       "    .dataframe thead tr:only-child th {\n",
       "        text-align: right;\n",
       "    }\n",
       "\n",
       "    .dataframe thead th {\n",
       "        text-align: left;\n",
       "    }\n",
       "\n",
       "    .dataframe tbody tr th {\n",
       "        vertical-align: top;\n",
       "    }\n",
       "</style>\n",
       "<table border=\"1\" class=\"dataframe\">\n",
       "  <thead>\n",
       "    <tr style=\"text-align: right;\">\n",
       "      <th></th>\n",
       "      <th>ActiveVoxel1</th>\n",
       "      <th>ActiveVoxel2</th>\n",
       "      <th>ActiveVoxel3</th>\n",
       "      <th>ActiveVoxel4</th>\n",
       "      <th>ActiveVoxel5</th>\n",
       "      <th>ActiveVoxel6</th>\n",
       "      <th>ActiveVoxel7</th>\n",
       "      <th>MotorVoxel1</th>\n",
       "      <th>MotorVoxel2</th>\n",
       "      <th>MotorVoxel3</th>\n",
       "      <th>MotorVoxel4</th>\n",
       "      <th>MotorVoxel5</th>\n",
       "      <th>MotorVoxel6</th>\n",
       "      <th>MotorVoxel7</th>\n",
       "    </tr>\n",
       "  </thead>\n",
       "  <tbody>\n",
       "    <tr>\n",
       "      <th>SubjectA</th>\n",
       "      <td>16.7</td>\n",
       "      <td>45.8</td>\n",
       "      <td>16.7</td>\n",
       "      <td>16.7</td>\n",
       "      <td>16.7</td>\n",
       "      <td>37.5</td>\n",
       "      <td>29.2</td>\n",
       "      <td>16.7</td>\n",
       "      <td>12.5</td>\n",
       "      <td>33.3</td>\n",
       "      <td>33.3</td>\n",
       "      <td>16.7</td>\n",
       "      <td>12.5</td>\n",
       "      <td>16.7</td>\n",
       "    </tr>\n",
       "    <tr>\n",
       "      <th>SubjectB</th>\n",
       "      <td>25.0</td>\n",
       "      <td>16.7</td>\n",
       "      <td>16.7</td>\n",
       "      <td>25.0</td>\n",
       "      <td>20.8</td>\n",
       "      <td>16.7</td>\n",
       "      <td>45.8</td>\n",
       "      <td>29.2</td>\n",
       "      <td>37.5</td>\n",
       "      <td>33.3</td>\n",
       "      <td>12.5</td>\n",
       "      <td>25.0</td>\n",
       "      <td>25.0</td>\n",
       "      <td>16.7</td>\n",
       "    </tr>\n",
       "    <tr>\n",
       "      <th>SubjectC</th>\n",
       "      <td>37.5</td>\n",
       "      <td>16.7</td>\n",
       "      <td>8.3</td>\n",
       "      <td>37.5</td>\n",
       "      <td>8.3</td>\n",
       "      <td>12.5</td>\n",
       "      <td>37.5</td>\n",
       "      <td>37.5</td>\n",
       "      <td>33.3</td>\n",
       "      <td>54.2</td>\n",
       "      <td>29.2</td>\n",
       "      <td>20.8</td>\n",
       "      <td>33.3</td>\n",
       "      <td>33.3</td>\n",
       "    </tr>\n",
       "  </tbody>\n",
       "</table>\n",
       "</div>"
      ],
      "text/plain": [
       "          ActiveVoxel1  ActiveVoxel2  ActiveVoxel3  ActiveVoxel4  \\\n",
       "SubjectA          16.7          45.8          16.7          16.7   \n",
       "SubjectB          25.0          16.7          16.7          25.0   \n",
       "SubjectC          37.5          16.7           8.3          37.5   \n",
       "\n",
       "          ActiveVoxel5  ActiveVoxel6  ActiveVoxel7  MotorVoxel1  MotorVoxel2  \\\n",
       "SubjectA          16.7          37.5          29.2         16.7         12.5   \n",
       "SubjectB          20.8          16.7          45.8         29.2         37.5   \n",
       "SubjectC           8.3          12.5          37.5         37.5         33.3   \n",
       "\n",
       "          MotorVoxel3  MotorVoxel4  MotorVoxel5  MotorVoxel6  MotorVoxel7  \n",
       "SubjectA         33.3         33.3         16.7         12.5         16.7  \n",
       "SubjectB         33.3         12.5         25.0         25.0         16.7  \n",
       "SubjectC         54.2         29.2         20.8         33.3         33.3  "
      ]
     },
     "execution_count": 96,
     "metadata": {},
     "output_type": "execute_result"
    }
   ],
   "source": [
    "data_64"
   ]
  },
  {
   "cell_type": "code",
   "execution_count": null,
   "metadata": {
    "collapsed": true
   },
   "outputs": [],
   "source": []
  }
 ],
 "metadata": {
  "kernelspec": {
   "display_name": "Python 3",
   "language": "python",
   "name": "python3"
  },
  "language_info": {
   "codemirror_mode": {
    "name": "ipython",
    "version": 3
   },
   "file_extension": ".py",
   "mimetype": "text/x-python",
   "name": "python",
   "nbconvert_exporter": "python",
   "pygments_lexer": "ipython3",
   "version": "3.6.1"
  }
 },
 "nbformat": 4,
 "nbformat_minor": 2
}
