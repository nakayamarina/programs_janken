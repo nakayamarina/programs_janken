{
 "cells": [
  {
   "cell_type": "markdown",
   "metadata": {},
   "source": [
    "# SVMによるボクセルごとの学習と性能評価（単変量解析）\n",
    "----\n",
    "\n",
    "引数：raw_rock.csv/raw_scissor.csv/raw_paper.csvがあるディレクトリまでのパス\n",
    "\n",
    "----\n",
    "\n",
    "入力：raw_rock.csv/raw_scissor.csv/raw_paper.csv\n",
    "\n",
    "----\n",
    "\n",
    "出力：ACCURACY[loo or k_cv]_VOXunivariate_SVM.csv ボクセルごとの識別性能評価結果一覧\n",
    "\n",
    "----\n",
    "\n",
    "ボクセルごとに単変量解析を行う．  \n",
    "k分割交差検証法により1グループをテストデータの，k-1グループを教師データとし，SVMを用いて学習，精度評価． \n",
    "ベクトル：各ボクセルにおけるある時刻のZ-score（1ベクトル）"
   ]
  },
  {
   "cell_type": "code",
   "execution_count": 12,
   "metadata": {},
   "outputs": [
    {
     "name": "stdout",
     "output_type": "stream",
     "text": [
      "############ ML_SVM_VOXunivariate_kCV.py program excution ############\n"
     ]
    }
   ],
   "source": [
    "print('############ ML_SVM_VOXunivariate_kCV.py program excution ############')"
   ]
  },
  {
   "cell_type": "code",
   "execution_count": 13,
   "metadata": {},
   "outputs": [],
   "source": [
    "import numpy as np\n",
    "import pandas as pd\n",
    "import sys\n",
    "from sklearn import cross_validation\n",
    "from sklearn import svm\n",
    "from sklearn.model_selection import train_test_split"
   ]
  },
  {
   "cell_type": "code",
   "execution_count": 17,
   "metadata": {},
   "outputs": [],
   "source": [
    "#args = sys.argv\n",
    "#PATH = args[1]\n",
    "\n",
    "# jupyter notebookのときはここで指定\n",
    "PATH = '../State-2fe_SpmActive/20181029rn/mb/RawData/'\n",
    "\n",
    "# 検証手法\n",
    "kCV = 10\n",
    "\n",
    "# 検証手法\n",
    "col_name = str(kCV) + 'CV'"
   ]
  },
  {
   "cell_type": "markdown",
   "metadata": {},
   "source": [
    "## SVM_kCV関数\n",
    "引く数としてデータをX，ラベルをyで受け取る．  \n",
    "交差検証法の一つk分割交差検証法で識別精度評価を行う．  "
   ]
  },
  {
   "cell_type": "code",
   "execution_count": 18,
   "metadata": {
    "collapsed": true
   },
   "outputs": [],
   "source": [
    "def SVM_kCV(X, y):\n",
    "    \n",
    "    # 線形SVMのインスタンスを生成\n",
    "    model = svm.SVC(kernel = 'linear', C = 1)\n",
    "    \n",
    "    # k分割し，1グループをテストデータ，残りグループを教師データにして評価\n",
    "    # すべてのグループに対して行う\n",
    "    # 評価結果（識別率）を格納\n",
    "    CVscore = cross_validation.cross_val_score(model, X, y, cv = kCV)\n",
    "    \n",
    "    # 評価結果（識別率）の平均を求める\n",
    "    result = CVscore.mean()\n",
    "    \n",
    "    # パーセントに直す\n",
    "    result = round(result * 100, 1)\n",
    "\n",
    "    print('k = ' + str(kCV) + '：' + str(CVscore))\n",
    "    \n",
    "    return result\n",
    "    "
   ]
  },
  {
   "cell_type": "markdown",
   "metadata": {},
   "source": [
    "# main関数"
   ]
  },
  {
   "cell_type": "code",
   "execution_count": 22,
   "metadata": {},
   "outputs": [],
   "source": [
    "if __name__ == '__main__':\n",
    "    \n",
    "    # 読み込みたいファイルのパス\n",
    "    PATH_rock = PATH + 'raw_rock.csv'\n",
    "    PATH_scissor = PATH + 'raw_scissor.csv'\n",
    "    PATH_paper = PATH + 'raw_paper.csv'\n",
    "    \n",
    "    # csvファイル読み込み\n",
    "    # headerは設定せず，転置後にset_index()する（header = 0にすると列名が変えられる）\n",
    "    rock = pd.read_csv(PATH_rock, header = 0, index_col = None).T\n",
    "    scissor = pd.read_csv(PATH_scissor, header = 0, index_col = None).T\n",
    "    paper = pd.read_csv(PATH_paper, header = 0, index_col = None).T"
   ]
  },
  {
   "cell_type": "code",
   "execution_count": 24,
   "metadata": {},
   "outputs": [
    {
     "name": "stdout",
     "output_type": "stream",
     "text": [
      "Voxel1( 1 / 7 )\n",
      "k = 10：[ 0.31111111  0.34444444  0.46666667  0.18888889  0.32222222  0.34444444\n",
      "  0.31034483  0.32183908  0.27586207  0.20689655]\n",
      "30.9\n",
      "Voxel2( 2 / 7 )\n",
      "k = 10：[ 0.24444444  0.24444444  0.26666667  0.21111111  0.24444444  0.3\n",
      "  0.1954023   0.1954023   0.29885057  0.34482759]\n",
      "25.5\n",
      "Voxel3( 3 / 7 )\n",
      "k = 10：[ 0.26666667  0.25555556  0.34444444  0.23333333  0.26666667  0.27777778\n",
      "  0.20689655  0.22988506  0.22988506  0.27586207]\n",
      "25.9\n",
      "Voxel4( 4 / 7 )\n",
      "k = 10：[ 0.32222222  0.3         0.33333333  0.18888889  0.33333333  0.3\n",
      "  0.25287356  0.29885057  0.20689655  0.32183908]\n",
      "28.6\n",
      "Voxel5( 5 / 7 )\n",
      "k = 10：[ 0.4         0.26666667  0.36666667  0.28888889  0.32222222  0.28888889\n",
      "  0.31034483  0.37931034  0.1954023   0.33333333]\n",
      "31.5\n",
      "Voxel6( 6 / 7 )\n",
      "k = 10：[ 0.33333333  0.3         0.41111111  0.33333333  0.26666667  0.34444444\n",
      "  0.20689655  0.26436782  0.2183908   0.26436782]\n",
      "29.4\n",
      "Voxel7( 7 / 7 )\n",
      "k = 10：[ 0.32222222  0.33333333  0.32222222  0.3         0.32222222  0.32222222\n",
      "  0.33333333  0.28735632  0.22988506  0.27586207]\n",
      "30.5\n"
     ]
    }
   ],
   "source": [
    "    # ボクセルの数\n",
    "    voxNum = len(rock)\n",
    "\n",
    "    # 全ボクセルの識別率を格納するデータフレーム\n",
    "    voxAc = pd.DataFrame(index = range(voxNum), columns = [col_name])\n",
    "    \n",
    "    counter = 0\n",
    "    csvcounter = 0\n",
    "    voxNames = []\n",
    "\n",
    "    for voxNo in range(voxNum):\n",
    "\n",
    "        voxName = 'Voxel' + str(voxNo + 1)\n",
    "        print(voxName + '( ' + str(counter+1) + ' / ' + str(voxNum) + ' )')\n",
    "\n",
    "        # ボクセルのデータを取得\n",
    "        rockVox = rock.loc[voxName]\n",
    "        scissorVox = scissor.loc[voxName]\n",
    "        paperVox = paper.loc[voxName]\n",
    "\n",
    "        # データセット作成\n",
    "        rockVox_vec = np.ravel(rockVox)\n",
    "        scissorVox_vec = np.ravel(scissorVox)\n",
    "        paperVox_vec = np.ravel(paperVox)\n",
    "\n",
    "        data = np.r_[rockVox_vec, scissorVox_vec, paperVox_vec]\n",
    "\n",
    "        # データ数+1にするためにリシェイプ\n",
    "        data = data.reshape(-1, 1)\n",
    "\n",
    "        # ラベルを作成\n",
    "        rockVox_label = np.zeros(len(rockVox_vec))\n",
    "        scissorVox_label = np.ones(len(scissorVox_vec))\n",
    "        paperVox_label = np.ones(len(paperVox_vec)) * 2\n",
    "\n",
    "        labels = np.r_[rockVox_label, scissorVox_label, paperVox_label]\n",
    "        \n",
    "        # 学習と評価\n",
    "        result_vox = SVM_kCV(data, labels)\n",
    "        print(result_vox)\n",
    "        \n",
    "        # データフレームに格納\n",
    "        voxAc.at[voxNo, :] = result_vox\n",
    "        \n",
    "        # 途中経過見る用\n",
    "        # 何ボクセルで一度出力するか\n",
    "        midNum = 1000\n",
    "\n",
    "        if (counter % midNum == 0) and (counter != 0):\n",
    "\n",
    "            PATH_test = PATH + 'ACMID' + str(csvcounter) + '[' + str(kCV) + 'cv]_VOXunivariate' + '_SVM.csv'\n",
    "            print(PATH_test)\n",
    "            MidVoxAc = voxAc.iloc[(csvcounter * midNum):((csvcounter + 1) * midNum), :]\n",
    "            MidVoxAc.index = voxNames[(csvcounter * midNum):((csvcounter + 1) * midNum)]\n",
    "            MidVoxAc.to_csv(PATH_test, index = True)\n",
    "\n",
    "            csvcounter = csvcounter + 1\n",
    "        \n",
    "        counter = counter + 1\n",
    "        voxNames = voxNames + [voxName]\n",
    "        \n"
   ]
  },
  {
   "cell_type": "code",
   "execution_count": 25,
   "metadata": {
    "collapsed": true
   },
   "outputs": [],
   "source": [
    "    # 行名つける\n",
    "    voxAc.index = voxNames\n",
    "\n",
    "    # csv書き出し\n",
    "    PATH_RESULT = PATH + 'ACCURACY[' + str(kCV) + 'CV]_VOXunivariate' + '_SVM.csv'\n",
    "    voxAc.to_csv(PATH_RESULT, index = True)"
   ]
  },
  {
   "cell_type": "code",
   "execution_count": null,
   "metadata": {
    "collapsed": true
   },
   "outputs": [],
   "source": []
  }
 ],
 "metadata": {
  "kernelspec": {
   "display_name": "Python 3",
   "language": "python",
   "name": "python3"
  },
  "language_info": {
   "codemirror_mode": {
    "name": "ipython",
    "version": 3
   },
   "file_extension": ".py",
   "mimetype": "text/x-python",
   "name": "python",
   "nbconvert_exporter": "python",
   "pygments_lexer": "ipython3",
   "version": "3.6.1"
  }
 },
 "nbformat": 4,
 "nbformat_minor": 2
}
