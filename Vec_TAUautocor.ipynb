{
 "cells": [
  {
   "cell_type": "markdown",
   "metadata": {},
   "source": [
    "# 各ボクセルごとの時間遅れτを求める\n",
    "### 自己相関関数が最初に極小値をとる時刻\n",
    "---  \n",
    "  \n",
    "引数：raw_rock.csv/raw_scissor.csv/raw_paper.csvがあるディレクトリまでのパス  \n",
    "  \n",
    "---  \n",
    "  \n",
    "入力：raw_rock.csv/raw_scissor.csv/raw_paper.csv \n",
    "  \n",
    "---\n",
    "   \n",
    "出力：rock，scissor，paper時の各ボクセルの時間遅れτをまとめたもの  \n",
    "  \n",
    "---  \n",
    "  \n",
    "時系列特性を得るために3次元空間に写像する．  \n",
    "時系列データにおいて，ある時刻tの値をx軸，t+τ（時間遅れ）の値をy軸，t+2*τの値をz軸に写像すると，  \n",
    "特徴的な軌道を描くとされている（カオス理論）．  \n",
    "時間遅れτの求め方はいくつかあるが，このプログラムでは時系列データ（各ボクセルのデータ）の自己相関関数が最初に極小値をとる時刻をτとする．  "
   ]
  },
  {
   "cell_type": "code",
   "execution_count": 1,
   "metadata": {},
   "outputs": [
    {
     "name": "stdout",
     "output_type": "stream",
     "text": [
      "########## TAUautocor.py program excution ############\n"
     ]
    }
   ],
   "source": [
    "print('########## TAUautocor.py program excution ############')"
   ]
  },
  {
   "cell_type": "code",
   "execution_count": 32,
   "metadata": {
    "collapsed": true
   },
   "outputs": [],
   "source": [
    "import numpy as np\n",
    "from scipy import signal\n",
    "import sys\n",
    "import pandas as pd"
   ]
  },
  {
   "cell_type": "markdown",
   "metadata": {},
   "source": [
    "コマンドライン引数でraw_tap.csv/raw_rest.csvがあるディレクトリまでのパスを取得"
   ]
  },
  {
   "cell_type": "code",
   "execution_count": 33,
   "metadata": {
    "collapsed": true
   },
   "outputs": [],
   "source": [
    "#args = sys.argv\n",
    "#PATH = args[1]\n",
    "\n",
    "# jupyter notebookのときはここで指定\n",
    "PATH = '../State-2fe_Active/20181029rn/mb/RawData/'\n",
    "\n",
    "# 読み込みたいファイルのパス\n",
    "PATH_rock = PATH + 'raw_rock.csv'\n",
    "PATH_scissor = PATH + 'raw_scissor.csv'\n",
    "PATH_paper = PATH + 'raw_paper.csv'"
   ]
  },
  {
   "cell_type": "markdown",
   "metadata": {},
   "source": [
    "## autocor関数\n",
    "引数としてmain関数で読み込んだデータをdataで受け取る．  \n",
    "rock，scissor，paperの各ボクセルごとの自己相関関数が最初に極小値をとる時刻を調べる --> csvファイルで書き出し"
   ]
  },
  {
   "cell_type": "code",
   "execution_count": 34,
   "metadata": {
    "collapsed": true
   },
   "outputs": [],
   "source": [
    "def autocor(data):\n",
    "    \n",
    "    # 求めた値を入れる\n",
    "    TAUs = []\n",
    "    \n",
    "    # ボクセル（列）の数だけ繰り返す\n",
    "    for i in range(len(data.columns)):\n",
    "        \n",
    "        # i番目のボクセルデータ抽出\n",
    "        voxel = data.iloc[:, i]\n",
    "        \n",
    "        # 自己相関関数\n",
    "        x = np.correlate(voxel, voxel, mode = 'full')\n",
    "        \n",
    "        # 極小値のインデックス一覧\n",
    "        first_min = signal.argrelmin(x)\n",
    "        \n",
    "        # 「最初に極小値をとるときの値」なので最初の値をTAUsに追加\n",
    "        TAUs.append(first_min[0][0])\n",
    "        \n",
    "    print(TAUs)\n",
    "    \n",
    "    return TAUs"
   ]
  },
  {
   "cell_type": "markdown",
   "metadata": {},
   "source": [
    "## main関数\n",
    "\n",
    "* tap_raw.csv/rest_raw.csv読み込み\n",
    "* autcor関数呼び出し"
   ]
  },
  {
   "cell_type": "code",
   "execution_count": 35,
   "metadata": {
    "collapsed": true
   },
   "outputs": [],
   "source": [
    "if __name__ == '__main__':\n",
    "    \n",
    "    # csvファイル読み込み\n",
    "    rock = pd.read_csv(PATH_rock, header = 0)\n",
    "    scissor = pd.read_csv(PATH_scissor, header = 0)\n",
    "    paper = pd.read_csv(PATH_paper, header = 0)\n",
    "    "
   ]
  },
  {
   "cell_type": "code",
   "execution_count": 36,
   "metadata": {},
   "outputs": [
    {
     "name": "stdout",
     "output_type": "stream",
     "text": [
      "[3, 1, 1, 4, 1, 2, 2]\n"
     ]
    }
   ],
   "source": [
    "    tau_rock = autocor(rock)"
   ]
  },
  {
   "cell_type": "code",
   "execution_count": 37,
   "metadata": {},
   "outputs": [
    {
     "name": "stdout",
     "output_type": "stream",
     "text": [
      "[3, 8, 3, 2, 3, 1, 5]\n"
     ]
    }
   ],
   "source": [
    "    tau_scissor = autocor(scissor)"
   ]
  },
  {
   "cell_type": "code",
   "execution_count": 38,
   "metadata": {},
   "outputs": [
    {
     "name": "stdout",
     "output_type": "stream",
     "text": [
      "[4, 1, 4, 3, 3, 2, 4]\n"
     ]
    }
   ],
   "source": [
    "    tau_paper = autocor(paper)"
   ]
  },
  {
   "cell_type": "code",
   "execution_count": 39,
   "metadata": {
    "collapsed": true
   },
   "outputs": [],
   "source": [
    "    # RestとTappingの各ボクセルごとの時間遅れTAUを整形\n",
    "    TAUs = pd.DataFrame({'1':tau_rock, '2':tau_scissor, '3':tau_paper})\n",
    "    TAUs.columns = ['rock', 'scissor', 'paper']"
   ]
  },
  {
   "cell_type": "code",
   "execution_count": 40,
   "metadata": {
    "collapsed": true
   },
   "outputs": [],
   "source": [
    "    # csv書き出し\n",
    "    PATH_TAU = PATH + 'TAUautocor.csv'\n",
    "    TAUs.to_csv(PATH_TAU, index = False)"
   ]
  },
  {
   "cell_type": "code",
   "execution_count": null,
   "metadata": {
    "collapsed": true
   },
   "outputs": [],
   "source": []
  }
 ],
 "metadata": {
  "kernelspec": {
   "display_name": "Python 3",
   "language": "python",
   "name": "python3"
  },
  "language_info": {
   "codemirror_mode": {
    "name": "ipython",
    "version": 3
   },
   "file_extension": ".py",
   "mimetype": "text/x-python",
   "name": "python",
   "nbconvert_exporter": "python",
   "pygments_lexer": "ipython3",
   "version": "3.6.1"
  }
 },
 "nbformat": 4,
 "nbformat_minor": 2
}
