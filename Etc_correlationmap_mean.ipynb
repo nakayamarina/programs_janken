{
 "cells": [
  {
   "cell_type": "markdown",
   "metadata": {},
   "source": [
    "# 3種類の相関マップの平均\n",
    "---  \n",
    "  \n",
    "引数：correlationmap_PS.csv/correlationmap_RP.csv/correlationmap_RS.csvがあるディレクトリまでのパス\n",
    "\n",
    "----\n",
    "\n",
    "入力：correlationmap_PS.csv/correlationmap_RP.csv/correlationmap_RS.csv\n",
    "\n",
    "----\n",
    "\n",
    "出力：correlationmap.csv 3種類の相関マップの平均 \n",
    "  \n",
    "---\n",
    "\n",
    "値のものほど相関が大きいということになるため，昇順に並べ替えておく．"
   ]
  },
  {
   "cell_type": "code",
   "execution_count": 2,
   "metadata": {},
   "outputs": [
    {
     "name": "stdout",
     "output_type": "stream",
     "text": [
      "############ Etc_correlationmap_mean.py program excution ############\n"
     ]
    }
   ],
   "source": [
    "print('############ Etc_correlationmap_mean.py program excution ############')"
   ]
  },
  {
   "cell_type": "code",
   "execution_count": 82,
   "metadata": {
    "collapsed": true
   },
   "outputs": [],
   "source": [
    "import numpy as np\n",
    "import pandas as pd\n",
    "import sys"
   ]
  },
  {
   "cell_type": "code",
   "execution_count": 83,
   "metadata": {
    "collapsed": true
   },
   "outputs": [],
   "source": [
    "#args = sys.argv\n",
    "#PATH = args[1]\n",
    "\n",
    "# jupyter notebookのときはここで指定\n",
    "PATH = '../State-2fe_MaskBrodmann/20181029su/mb/RawData/'"
   ]
  },
  {
   "cell_type": "code",
   "execution_count": 84,
   "metadata": {},
   "outputs": [],
   "source": [
    "# 読み込みたいファイルのパス\n",
    "PATH_ps = PATH + 'correlationmap_PS.csv'\n",
    "PATH_rp = PATH + 'correlationmap_RP.csv'\n",
    "PATH_rs = PATH + 'correlationmap_RS.csv'\n",
    "\n",
    "ps = pd.read_csv(PATH_ps, header = 0, index_col = 0)\n",
    "rp = pd.read_csv(PATH_rp, header = 0, index_col = 0)\n",
    "rs = pd.read_csv(PATH_rs, header = 0, index_col = 0)"
   ]
  },
  {
   "cell_type": "code",
   "execution_count": 85,
   "metadata": {},
   "outputs": [],
   "source": [
    "# mergeは1度に2つしかできない\n",
    "\n",
    "# ps, rpをmerge\n",
    "jan_rs = pd.merge(ps, rp, right_index = True, left_index = True)\n",
    "\n",
    "# rsもmerge\n",
    "jan = pd.merge(jan_rs, rs, right_index = True, left_index = True)\n",
    "\n",
    "# 3つの相関マップの平均を算出\n",
    "jan_mean = jan.T.mean()\n",
    "jan_mean = pd.DataFrame(jan_mean)\n",
    "\n",
    "# カラム名をつける\n",
    "jan_mean.columns = ['Correlation']"
   ]
  },
  {
   "cell_type": "code",
   "execution_count": 86,
   "metadata": {},
   "outputs": [],
   "source": [
    "# 相関の大きい順に並び替え\n",
    "jan_mean_sort = jan_mean.sort_values(by = 'Correlation', ascending = False)"
   ]
  },
  {
   "cell_type": "code",
   "execution_count": 87,
   "metadata": {
    "collapsed": true
   },
   "outputs": [],
   "source": [
    "# csv書き出し\n",
    "PATH_cormap = PATH + 'correlationmap.csv'\n",
    "jan_mean_sort.to_csv(PATH_cormap)"
   ]
  },
  {
   "cell_type": "code",
   "execution_count": null,
   "metadata": {
    "collapsed": true
   },
   "outputs": [],
   "source": []
  }
 ],
 "metadata": {
  "kernelspec": {
   "display_name": "Python 3",
   "language": "python",
   "name": "python3"
  },
  "language_info": {
   "codemirror_mode": {
    "name": "ipython",
    "version": 3
   },
   "file_extension": ".py",
   "mimetype": "text/x-python",
   "name": "python",
   "nbconvert_exporter": "python",
   "pygments_lexer": "ipython3",
   "version": "3.6.1"
  }
 },
 "nbformat": 4,
 "nbformat_minor": 2
}
