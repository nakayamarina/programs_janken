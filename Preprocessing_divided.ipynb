{
 "cells": [
  {
   "cell_type": "markdown",
   "metadata": {},
   "source": [
    "## fMRI時系列データを区切る前処理  \n",
    "----  \n",
    "  \n",
    "引数：raw_rock.csv/raw_scissor.csv/raw_paper.csvがあるディレクトリまでのパス，分割数\n",
    "  \n",
    "----\n",
    "  \n",
    "入力：raw_rock.csv/raw_scissor.csv/raw_paper.csv  \n",
    "  \n",
    "----\n",
    "  \n",
    "出力： /(分割数)divData/div_rock.csv, /(分割数)divData/div_scissor.csv, /(分割数)divData/div_paper.csv\n",
    "  \n",
    "----\n",
    "\n",
    "State Designで計測したfMRIデータを数ブロックに区切る．（ボクセルごとに識別率を算出するため）"
   ]
  },
  {
   "cell_type": "code",
   "execution_count": null,
   "metadata": {},
   "outputs": [
    {
     "name": "stdout",
     "output_type": "stream",
     "text": [
      "########### Preprocessing_divided.py program excution ##########\n"
     ]
    }
   ],
   "source": [
    "print('########### Preprocessing_divided.py program excution ##########')"
   ]
  },
  {
   "cell_type": "code",
   "execution_count": 5,
   "metadata": {
    "collapsed": true
   },
   "outputs": [],
   "source": [
    "import pandas as pd\n",
    "import os\n",
    "import os\n",
    "\n",
    "import pandas as pd\n"
   ]
  },
  {
   "cell_type": "markdown",
   "metadata": {},
   "source": [
    "コマンドライン引数でraw_rock.csv/raw_scissor.csv/raw_paper.csvがあるディレクトリまでのパスと分割数を取得"
   ]
  },
  {
   "cell_type": "code",
   "execution_count": 6,
   "metadata": {
    "collapsed": true
   },
   "outputs": [],
   "source": [
    "#args = sys.argv\n",
    "#PATH = args[1]\n",
    "#divNum = int(args[2])\n",
    "\n",
    "# jupyter notebookのときはここで指定\n",
    "PATH = '../State-2fe_Active/20181029rn/64ch/RawData/'\n",
    "divNum = 8\n"
   ]
  },
  {
   "cell_type": "markdown",
   "metadata": {},
   "source": [
    "後で出力するcsvファイルを保存するディレクトリを作成"
   ]
  },
  {
   "cell_type": "code",
   "execution_count": 7,
   "metadata": {
    "collapsed": true
   },
   "outputs": [],
   "source": [
    "# 作成したいディレクトリ名・パス\n",
    "DIR_div = PATH + '../' + str(divNum) + 'divData'\n",
    "PATH_div = DIR_div + '/' \n",
    "\n",
    "# 既に存在する場合は何もせず，存在していない場合はディレクトリ作成\n",
    "if not os.path.exists(DIR_div):\n",
    "    os.mkdir(DIR_div)"
   ]
  },
  {
   "cell_type": "markdown",
   "metadata": {},
   "source": [
    "# DataDiv関数  \n",
    "引数としてボクセルの時系列fMRIデータをvoxで受け取る.  \n",
    "divNum(分割数)に応じて一つの時系列fMRIデータを分割し，横結合することで新しいデータフレームを生成．"
   ]
  },
  {
   "cell_type": "code",
   "execution_count": 8,
   "metadata": {
    "collapsed": true
   },
   "outputs": [],
   "source": [
    "def DataDiv(vox):\n",
    "    \n",
    "    # ボクセルのfMRIデータをdivNum分割したデータ格納用データフレーム\n",
    "    voxData = pd.DataFrame(index = [], columns = [])\n",
    "\n",
    "    # divNum分割した時の1ブロックあたりのscan数\n",
    "    divScan = len(vox) // divNum\n",
    "\n",
    "    for i in range(divNum):\n",
    "        \n",
    "        # データを分割\n",
    "        divVox = vox.iloc[(divScan*i):(divScan*(i+1))]\n",
    "        \n",
    "        # データフレームに結合するためには行名を合わせとく必要があるので連番を行名とする\n",
    "        divVox.index = range(divScan)\n",
    "        \n",
    "        # 新しいデータフレームに追加\n",
    "        voxData = pd.concat([voxData, divVox], axis = 1)\n",
    "        \n",
    "    return voxData"
   ]
  },
  {
   "cell_type": "markdown",
   "metadata": {},
   "source": [
    "# main関数"
   ]
  },
  {
   "cell_type": "code",
   "execution_count": 15,
   "metadata": {},
   "outputs": [],
   "source": [
    "if __name__ == '__main__':\n",
    "    \n",
    "    # 読み込みたいファイルのパス\n",
    "    PATH_rock = PATH + 'raw_rock.csv'\n",
    "    PATH_scissor = PATH + 'raw_scissor.csv'\n",
    "    PATH_paper = PATH + 'raw_paper.csv'\n",
    "    \n",
    "    # csvファイル読み込み\n",
    "    rock = pd.read_csv(PATH_rock, header = 0)\n",
    "    scissor = pd.read_csv(PATH_scissor, header = 0)\n",
    "    paper = pd.read_csv(PATH_paper, header = 0)\n",
    "    "
   ]
  },
  {
   "cell_type": "code",
   "execution_count": 16,
   "metadata": {},
   "outputs": [],
   "source": [
    "    # rock時の全ボクセルをdivNum分割してまとめたデータ格納用データフレーム\n",
    "    rockData = pd.DataFrame(index = [], columns = [])\n",
    "    \n",
    "    for i in rock.columns:\n",
    "        \n",
    "        # ボクセルごとにdivNum分割\n",
    "        rockVox = DataDiv(rock[i])\n",
    "        \n",
    "        # 全ボクセルをまとめていく\n",
    "        rockData = pd.concat([rockData, rockVox], axis = 1)\n"
   ]
  },
  {
   "cell_type": "code",
   "execution_count": 17,
   "metadata": {
    "collapsed": true
   },
   "outputs": [],
   "source": [
    "    # csv書きだし\n",
    "    PATH_rock = PATH_div + 'div_rock.csv'\n",
    "    rockData.to_csv(PATH_rock, index = False)"
   ]
  },
  {
   "cell_type": "code",
   "execution_count": 18,
   "metadata": {},
   "outputs": [],
   "source": [
    "    # scissor時の全ボクセルをdivNum分割してまとめたデータ格納用データフレーム\n",
    "    scissorData = pd.DataFrame(index = [], columns = [])\n",
    "    \n",
    "    for i in scissor.columns:\n",
    "        \n",
    "        # ボクセルごとにdivNum分割\n",
    "        scissorVox = DataDiv(scissor[i])\n",
    "        \n",
    "        # 全ボクセルをまとめていく\n",
    "        scissorData = pd.concat([scissorData, scissorVox], axis = 1)"
   ]
  },
  {
   "cell_type": "code",
   "execution_count": 19,
   "metadata": {
    "collapsed": true
   },
   "outputs": [],
   "source": [
    "    # csv書きだし\n",
    "    PATH_scissor = PATH_div + 'div_scissor.csv'\n",
    "    scissorData.to_csv(PATH_scissor, index = False)"
   ]
  },
  {
   "cell_type": "code",
   "execution_count": 20,
   "metadata": {
    "collapsed": true
   },
   "outputs": [],
   "source": [
    "    # paper時の全ボクセルをdivNum分割してまとめたデータ格納用データフレーム\n",
    "    paperData = pd.DataFrame(index = [], columns = [])\n",
    "    \n",
    "    for i in paper.columns:\n",
    "        \n",
    "        # ボクセルごとにdivNum分割\n",
    "        paperVox = DataDiv(paper[i])\n",
    "        \n",
    "        # 全ボクセルをまとめていく\n",
    "        paperData = pd.concat([paperData, paperVox], axis = 1)"
   ]
  },
  {
   "cell_type": "code",
   "execution_count": 21,
   "metadata": {
    "collapsed": true
   },
   "outputs": [],
   "source": [
    "    # csv書きだし\n",
    "    PATH_paper = PATH_div + 'div_paper.csv'\n",
    "    paperData.to_csv(PATH_paper, index = False)"
   ]
  },
  {
   "cell_type": "code",
   "execution_count": null,
   "metadata": {
    "collapsed": true
   },
   "outputs": [],
   "source": []
  }
 ],
 "metadata": {
  "kernelspec": {
   "display_name": "Python 3",
   "language": "python",
   "name": "python3"
  },
  "language_info": {
   "codemirror_mode": {
    "name": "ipython",
    "version": 3
   },
   "file_extension": ".py",
   "mimetype": "text/x-python",
   "name": "python",
   "nbconvert_exporter": "python",
   "pygments_lexer": "ipython3",
   "version": "3.6.1"
  }
 },
 "nbformat": 4,
 "nbformat_minor": 2
}
