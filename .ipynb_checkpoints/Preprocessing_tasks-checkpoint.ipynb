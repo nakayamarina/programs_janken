{
 "cells": [
  {
   "cell_type": "markdown",
   "metadata": {},
   "source": [
    "# 実験から得られたfMRIデータの前処理\n",
    "----  \n",
    "  \n",
    "引数：Y01.csv, Y02.csv,... の入ったVexelディレクトリがあるディレクトリまでのパス  \n",
    "  \n",
    "---  \n",
    "\n",
    "入力：Y01.csv, Y02.csv,...  \n",
    "  \n",
    "---  \n",
    "  \n",
    "出力：  \n",
    "* RawData/raw_all.csv : すべてのボクセルrock,scissor,paper時（rest時は除く）のZ-scoreをまとめたもの\n",
    "* RawData/raw_rock.csv : rock時のZ-scoreだけをまとめたもの\n",
    "* RawData/raw_scissor.csv : scissor時のZ-scoreだけをまとめたもの\n",
    "* RawData/raw_paper.csv : paper時のZ-scoreだけをまとめたもの\n",
    "* RawData/Raw_image/voxel[ボクセル番号]_rock.png：roch時の各ボクセルのデータをプロットしたもの\n",
    "* RawData/Raw_image/voxel[ボクセル番号]_scissor.png：scissor時の各ボクセルのデータをプロットしたもの\n",
    "* RawData/Raw_image/voxel[ボクセル番号]_paper.png：scissor時の各ボクセルのデータをプロットしたもの\n",
    "  \n",
    "[ボクセル番号]には列名にもあるボクセルの数\n",
    "  \n",
    "----\n",
    "\n",
    "\n",
    "/VoxelディレクトリのY01.csv, Y02.csv, ... のデータには，選択してきた数ボクセルそれぞれのZ-score（賦活度合いみたいなもの）が記録されている．  \n",
    " \n",
    "ここでは，全タスク，各タスクごとに分別した時系列データを得る．  \n",
    "  \n",
    "  "
   ]
  },
  {
   "cell_type": "code",
   "execution_count": 35,
   "metadata": {},
   "outputs": [
    {
     "name": "stdout",
     "output_type": "stream",
     "text": [
      "########## Preprocessing_state.py program excution ############\n"
     ]
    }
   ],
   "source": [
    "print('########## Preprocessing_state.py program excution ############')"
   ]
  },
  {
   "cell_type": "code",
   "execution_count": 36,
   "metadata": {
    "collapsed": true
   },
   "outputs": [],
   "source": [
    "import glob\n",
    "import sys\n",
    "import pandas as pd\n",
    "import matplotlib.pyplot as plt\n",
    "import os"
   ]
  },
  {
   "cell_type": "markdown",
   "metadata": {},
   "source": [
    "コマンドライン引数で/Voxelディレクトリがあるディレクトリまでのパスを取得"
   ]
  },
  {
   "cell_type": "code",
   "execution_count": 45,
   "metadata": {
    "collapsed": true
   },
   "outputs": [],
   "source": [
    "#args = sys.argv\n",
    "#PATH_pre = args[1]\n",
    "\n",
    "# jupyter notebookのときはここで指定\n",
    "PATH_pre = '../State-2fe_Active/20181029rn/mb/'\n",
    "\n",
    "# /Voxelディレクトリまでのパス\n",
    "PATH = PATH_pre + 'Voxel/'"
   ]
  },
  {
   "cell_type": "markdown",
   "metadata": {},
   "source": [
    "後で出力するcsvファイルを保存するディレクトリ（RawData）、pngファイルを保存するディレクトリ（Raw_image）を作成"
   ]
  },
  {
   "cell_type": "code",
   "execution_count": 46,
   "metadata": {
    "collapsed": true
   },
   "outputs": [],
   "source": [
    "# RawDataのディレクトリ名・パス\n",
    "DIR_RAW = PATH + '../RawData'\n",
    "PATH_RAW = DIR_RAW + '/'\n",
    "\n",
    "# すでに存在する場合は何もせず，存在していない場合はディレクトリ作成\n",
    "if not os.path.exists(DIR_RAW):\n",
    "    os.mkdir(DIR_RAW)\n",
    "    \n",
    "# Raw_imageのディレクトリ名・パス\n",
    "DIR_image = PATH_RAW + 'Raw_image'\n",
    "PATH_image = DIR_image + '/'\n",
    "\n",
    "# すでに存在する場合は何もせず，存在していない場合はディレクトリ作成\n",
    "if not os.path.exists(DIR_image):\n",
    "    os.mkdir(DIR_image) \n",
    "    \n",
    "headcoil = PATH_pre.split('/')[3]\n",
    "\n",
    "# plotするなら1，plotしないなら0\n",
    "imgPlot = 1\n",
    "\n",
    "if headcoil == 'mb':\n",
    "\n",
    "    # TR = 1の時のrestのスキャン数\n",
    "    restNum = 26\n",
    "    \n",
    "    # 1タスクのスキャン数\n",
    "    taskNum = 296\n",
    "    \n",
    "else :\n",
    "             \n",
    "    # TR = 3の時のrestのスキャン数\n",
    "    restNum = 6\n",
    "    \n",
    "    # 1タスクのスキャン数\n",
    "    taskNum = 96\n"
   ]
  },
  {
   "cell_type": "markdown",
   "metadata": {},
   "source": [
    "## splitTask関数\n",
    "\n",
    "引数に１ブロックのscan数を受け取り，タスクごとにデータを分けてcsvファイルで書き出し"
   ]
  },
  {
   "cell_type": "code",
   "execution_count": 47,
   "metadata": {
    "collapsed": true
   },
   "outputs": [],
   "source": [
    "def splitTask(brain):\n",
    "\n",
    "    # 各タスクごとのマスク作成\n",
    "    maskRock = ([True] * taskNum) + ([False] * taskNum) + ([False] * taskNum)\n",
    "    maskScissor = ([False] * taskNum) + ([True] * taskNum) + ([False] * taskNum)\n",
    "    maskPaper = ([False] * taskNum) + ([False] * taskNum) + ([True] * taskNum)\n",
    "    \n",
    "    # mask適用\n",
    "    dataRock = brain[maskRock]\n",
    "    dataScissor = brain[maskScissor]\n",
    "    dataPaper = brain[maskPaper]\n",
    "    \n",
    "    # csv書き出し\n",
    "    PATH_rock = PATH_RAW + 'raw_rock.csv'\n",
    "    dataRock.to_csv(PATH_rock, index = False)\n",
    "    \n",
    "    PATH_scissor = PATH_RAW + 'raw_scissor.csv'\n",
    "    dataScissor.to_csv(PATH_scissor, index = False)\n",
    "    \n",
    "    PATH_paper = PATH_RAW + 'raw_paper.csv'\n",
    "    dataPaper.to_csv(PATH_paper, index = False)\n",
    "    \n",
    "    if imgPlot == 1:\n",
    "    \n",
    "        plotIMAGE(dataRock, 'rock')\n",
    "        plotIMAGE(dataScissor, 'scissor')\n",
    "        plotIMAGE(dataPaper, 'paper')\n"
   ]
  },
  {
   "cell_type": "markdown",
   "metadata": {},
   "source": [
    "## plotIMAGE関数\n"
   ]
  },
  {
   "cell_type": "code",
   "execution_count": 48,
   "metadata": {
    "collapsed": true
   },
   "outputs": [],
   "source": [
    "def plotIMAGE(data, task):\n",
    "    \n",
    "    # indexが連番になっていないのでreset_indexで番号を振り直す\n",
    "    # drop=Trueにしなければ古いindexが新しい列として追加されてしまう\n",
    "    data = data.reset_index(drop = True)\n",
    "    \n",
    "    # ボクセル（列）の数だけ繰り返す\n",
    "    for i in range(len(data.columns)):\n",
    "        \n",
    "        # この後に出力するpngファイル名\n",
    "        FILE_NAME = DIR_image + '/voxel' + str(i+1) + '_' + task + '.png'\n",
    "        \n",
    "        # データをplot\n",
    "        plt.plot(data.iloc[:, i], label = 'fMRIdata')\n",
    "        \n",
    "        # グラフのタイトル\n",
    "        graph_name = 'fMRIdata : ' + task + '-voxel' + str(i+1) \n",
    "        plt.title(graph_name)\n",
    "        plt.ylim([-5,5])\n",
    "        plt.ylabel('Z-score')\n",
    "        plt.xlabel('Time(scan)')\n",
    "        \n",
    "        # グラフの凡例\n",
    "        plt.legend()\n",
    "        \n",
    "        # ファイル名をつけて保存，終了\n",
    "        plt.savefig(FILE_NAME)\n",
    "        plt.close()\n",
    "        \n",
    "        print(FILE_NAME)"
   ]
  },
  {
   "cell_type": "markdown",
   "metadata": {},
   "source": [
    "## main関数 "
   ]
  },
  {
   "cell_type": "markdown",
   "metadata": {},
   "source": [
    "* fMRIデータ読み込み\n",
    "* 全ボクセルデータ連結\n",
    "* 全ボクセルデータをcsvで書き出し"
   ]
  },
  {
   "cell_type": "code",
   "execution_count": 49,
   "metadata": {
    "collapsed": true
   },
   "outputs": [],
   "source": [
    "if __name__ == '__main__':\n",
    "    # /Voxelディレクトリ内のcsvファイルのパスを取得\n",
    "    csv_file = PATH + '*.csv'\n",
    "    files = []\n",
    "    files = glob.glob(csv_file)\n",
    "    files.sort()"
   ]
  },
  {
   "cell_type": "code",
   "execution_count": 50,
   "metadata": {
    "collapsed": true
   },
   "outputs": [],
   "source": [
    "    # 1つ目のファイルを読み込む\n",
    "\n",
    "    # 列名\n",
    "    row_name = \"Voxel1\"\n",
    "\n",
    "    # 列名をつけてデータフレームとして読み込み（row_nameの後に','をつけることで1列だけ名前をつけることができる）\n",
    "    data = pd.read_csv(files[0], names=(row_name,))\n",
    "\n",
    "    # rest部分の削除\n",
    "    brain = data.iloc[restNum:(len(data) - restNum), :]"
   ]
  },
  {
   "cell_type": "code",
   "execution_count": 51,
   "metadata": {
    "collapsed": true
   },
   "outputs": [],
   "source": [
    "    # 同様に2つ目以降のファイルをデータフレームとして読み込み，1つ目のデータフレームに横連結\n",
    "    for i in range(1, len(files)):\n",
    "\n",
    "        row_name = \"Voxel\" + str(i+1)\n",
    "        data = pd.read_csv(files[i], names=(row_name,))\n",
    "        \n",
    "        # rest部分の削除\n",
    "        data = data.iloc[restNum:(len(data) - restNum), :]\n",
    "        \n",
    "        brain = pd.concat([brain, data], axis = 1)\n",
    "        "
   ]
  },
  {
   "cell_type": "code",
   "execution_count": 52,
   "metadata": {},
   "outputs": [
    {
     "name": "stdout",
     "output_type": "stream",
     "text": [
      "../State_-2fe_Active/20181029rn/mb/Voxel/../RawData/Raw_image/voxel1_rock.png\n",
      "../State_-2fe_Active/20181029rn/mb/Voxel/../RawData/Raw_image/voxel2_rock.png\n",
      "../State_-2fe_Active/20181029rn/mb/Voxel/../RawData/Raw_image/voxel3_rock.png\n",
      "../State_-2fe_Active/20181029rn/mb/Voxel/../RawData/Raw_image/voxel4_rock.png\n",
      "../State_-2fe_Active/20181029rn/mb/Voxel/../RawData/Raw_image/voxel5_rock.png\n",
      "../State_-2fe_Active/20181029rn/mb/Voxel/../RawData/Raw_image/voxel6_rock.png\n",
      "../State_-2fe_Active/20181029rn/mb/Voxel/../RawData/Raw_image/voxel7_rock.png\n",
      "../State_-2fe_Active/20181029rn/mb/Voxel/../RawData/Raw_image/voxel1_scissor.png\n",
      "../State_-2fe_Active/20181029rn/mb/Voxel/../RawData/Raw_image/voxel2_scissor.png\n",
      "../State_-2fe_Active/20181029rn/mb/Voxel/../RawData/Raw_image/voxel3_scissor.png\n",
      "../State_-2fe_Active/20181029rn/mb/Voxel/../RawData/Raw_image/voxel4_scissor.png\n",
      "../State_-2fe_Active/20181029rn/mb/Voxel/../RawData/Raw_image/voxel5_scissor.png\n",
      "../State_-2fe_Active/20181029rn/mb/Voxel/../RawData/Raw_image/voxel6_scissor.png\n",
      "../State_-2fe_Active/20181029rn/mb/Voxel/../RawData/Raw_image/voxel7_scissor.png\n",
      "../State_-2fe_Active/20181029rn/mb/Voxel/../RawData/Raw_image/voxel1_paper.png\n",
      "../State_-2fe_Active/20181029rn/mb/Voxel/../RawData/Raw_image/voxel2_paper.png\n",
      "../State_-2fe_Active/20181029rn/mb/Voxel/../RawData/Raw_image/voxel3_paper.png\n",
      "../State_-2fe_Active/20181029rn/mb/Voxel/../RawData/Raw_image/voxel4_paper.png\n",
      "../State_-2fe_Active/20181029rn/mb/Voxel/../RawData/Raw_image/voxel5_paper.png\n",
      "../State_-2fe_Active/20181029rn/mb/Voxel/../RawData/Raw_image/voxel6_paper.png\n",
      "../State_-2fe_Active/20181029rn/mb/Voxel/../RawData/Raw_image/voxel7_paper.png\n"
     ]
    }
   ],
   "source": [
    "    splitTask(brain)"
   ]
  },
  {
   "cell_type": "code",
   "execution_count": null,
   "metadata": {
    "collapsed": true
   },
   "outputs": [],
   "source": []
  },
  {
   "cell_type": "code",
   "execution_count": null,
   "metadata": {
    "collapsed": true
   },
   "outputs": [],
   "source": []
  }
 ],
 "metadata": {
  "kernelspec": {
   "display_name": "Python 3",
   "language": "python",
   "name": "python3"
  },
  "language_info": {
   "codemirror_mode": {
    "name": "ipython",
    "version": 3
   },
   "file_extension": ".py",
   "mimetype": "text/x-python",
   "name": "python",
   "nbconvert_exporter": "python",
   "pygments_lexer": "ipython3",
   "version": "3.6.1"
  }
 },
 "nbformat": 4,
 "nbformat_minor": 2
}
