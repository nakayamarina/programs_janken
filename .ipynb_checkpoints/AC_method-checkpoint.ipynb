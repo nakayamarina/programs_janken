{
 "cells": [
  {
   "cell_type": "markdown",
   "metadata": {},
   "source": [
    "## 識別まとめ用：従来+TimeSeriese+TDA"
   ]
  },
  {
   "cell_type": "markdown",
   "metadata": {},
   "source": [
    "各被験者でヘッドコイルごとにTimeSeries + SVM and 1dCNN, TDA + SVM and 1dCNNの識別率をplot，csvファイル出力 \n",
    "* ACCURACY\\_allsub.csv / ACCURACY_(被験者名).png  \n",
    "  \n",
    "\n",
    "全被験者のヘッドコイルごとにTimeSeries + SVM and 1dCNN, TDA + SVM and 1dCNNの平均識別率をplot，csvファイル出力  \n",
    "* ACCURACY_mean.csv / ACCURACY_mean.png"
   ]
  },
  {
   "cell_type": "code",
   "execution_count": 151,
   "metadata": {
    "collapsed": true
   },
   "outputs": [],
   "source": [
    "import numpy as np\n",
    "import pandas as pd\n",
    "import sys\n",
    "import os\n",
    "\n",
    "# .pyで実行するときは%matplotlib inlineをコメントアウト！！！！\n",
    "import matplotlib.pyplot as plt\n",
    "%matplotlib inline"
   ]
  },
  {
   "cell_type": "code",
   "execution_count": 164,
   "metadata": {
    "collapsed": true
   },
   "outputs": [],
   "source": [
    "#args = sys.argv\n",
    "#PATH = args[1]\n",
    "\n",
    "# jupyter notebookのときはここで指定\n",
    "PATH = '../State-2fe_Active/'\n",
    "\n",
    "\n",
    "# ------- 書き換え ------- #\n",
    "\n",
    "resultName = 'Result1110method'\n",
    "\n",
    "# ----------------------- #\n",
    "\n",
    "# Result[日付]のディレクトリ名・パス\n",
    "DIR_result = PATH + resultName\n",
    "PATH_result = DIR_result + '/'\n",
    "\n",
    "# すでに存在する場合は何もせず，存在していない場合はディレクトリ作成\n",
    "if not os.path.exists(DIR_result):\n",
    "    os.mkdir(DIR_result) \n",
    "\n",
    "\n",
    "DIR_sub = ['20181029rn/', '20181029su/', '20181029tm/']\n",
    "DIR_ch = ['64ch/', 'mb/']\n",
    "DIR_data = 'RawData/'\n",
    "\n",
    "csvName = ['ACCURACY[loo]_timeseries_SVM.csv', 'ACCURACY[loo]_timeseries_1dCNN.csv',\n",
    "           'ACCURACY[loo]_TDAautocor01dim100_SVM.csv', 'ACCURACY[loo]_TDAautocor01dim100_1dCNN.csv',\n",
    "           'ACCURACY[loo]_TDAautocor012dim100_SVM.csv', 'ACCURACY[loo]_TDAautocor012dim100_1dCNN.csv',\n",
    "           'ACCURACY[loo]_TDAautocor01dim300_SVM.csv', 'ACCURACY[loo]_TDAautocor01dim300_1dCNN.csv',\n",
    "           'ACCURACY[loo]_TDAautocor012dim300_SVM.csv', 'ACCURACY[loo]_TDAautocor012dim300_1dCNN.csv']\n",
    "\n",
    "method_col = ['TimeSeries + SVM', 'TimeSeries + 1dCNN', \n",
    "              'TDA(01dim100) + SVM', 'TDA(01dim100) + 1dCNN',\n",
    "              'TDA(012dim100) + SVM', 'TDA(012dim100) + 1dCNN',\n",
    "              'TDA(01dim300) + SVM', 'TDA(01dim300) + 1dCNN',\n",
    "              'TDA(012dim300) + SVM', 'TDA(012dim300) + 1dCNN']\n",
    "\n",
    "ch_index = ['64ch head coil(64ch)', '64ch head coil multi-band(64chMB)']\n"
   ]
  },
  {
   "cell_type": "code",
   "execution_count": 165,
   "metadata": {
    "collapsed": true
   },
   "outputs": [],
   "source": [
    "def AcBar(ac_plt, name):\n",
    "\n",
    "    plt.figure()\n",
    "\n",
    "    ac_plt.plot.bar(color = ['lightblue', 'firebrick', 'lightblue', 'firebrick', 'lightblue', 'firebrick', 'lightblue', 'firebrick', 'lightblue', 'firebrick'],\n",
    "               width = 0.8, figsize = (16,9), rot = 0, fontsize = 15, legend='reverse',\n",
    "               yticks = [10,20,30,40,50,60,70,80,90,100])\n",
    "\n",
    "    PATH_plt = PATH + PATH_result + 'ACCURACY_' + name + '.png'\n",
    "    print(PATH_plt)\n",
    "    plt.savefig(PATH_plt)\n",
    "    \n",
    "    plt.close('all')\n",
    "\n"
   ]
  },
  {
   "cell_type": "code",
   "execution_count": 166,
   "metadata": {},
   "outputs": [
    {
     "name": "stdout",
     "output_type": "stream",
     "text": [
      "--------- all subject list ----------\n",
      "../State-2fe_Active/../State-2fe_Active/Result1110method/ACCURACY_20181029rn.png\n",
      "../State-2fe_Active/../State-2fe_Active/Result1110method/ACCURACY_20181029su.png\n",
      "../State-2fe_Active/../State-2fe_Active/Result1110method/ACCURACY_20181029tm.png\n",
      "                                  TimeSeries + SVM TimeSeries + 1dCNN  \\\n",
      "64ch head coil(64ch)                          76.2               28.6   \n",
      "64ch head coil multi-band(64chMB)             95.2               85.7   \n",
      "64ch head coil(64ch)                          90.5               28.6   \n",
      "64ch head coil multi-band(64chMB)             95.2               85.7   \n",
      "64ch head coil(64ch)                          85.7               33.3   \n",
      "64ch head coil multi-band(64chMB)              100                100   \n",
      "\n",
      "                                  TDA(01dim100) + SVM TDA(01dim100) + 1dCNN  \\\n",
      "64ch head coil(64ch)                             33.3                  28.6   \n",
      "64ch head coil multi-band(64chMB)                28.6                  23.8   \n",
      "64ch head coil(64ch)                             23.8                  42.9   \n",
      "64ch head coil multi-band(64chMB)                33.3                  33.3   \n",
      "64ch head coil(64ch)                             28.6                    19   \n",
      "64ch head coil multi-band(64chMB)                  19                  23.8   \n",
      "\n",
      "                                  TDA(012dim100) + SVM TDA(012dim100) + 1dCNN  \\\n",
      "64ch head coil(64ch)                              33.3                    4.8   \n",
      "64ch head coil multi-band(64chMB)                 28.6                   23.8   \n",
      "64ch head coil(64ch)                              28.6                   38.1   \n",
      "64ch head coil multi-band(64chMB)                 33.3                   28.6   \n",
      "64ch head coil(64ch)                              28.6                     19   \n",
      "64ch head coil multi-band(64chMB)                   19                     19   \n",
      "\n",
      "                                  TDA(01dim300) + SVM TDA(01dim300) + 1dCNN  \\\n",
      "64ch head coil(64ch)                             42.9                  28.6   \n",
      "64ch head coil multi-band(64chMB)                23.8                  33.3   \n",
      "64ch head coil(64ch)                             23.8                  33.3   \n",
      "64ch head coil multi-band(64chMB)                38.1                  23.8   \n",
      "64ch head coil(64ch)                             28.6                  33.3   \n",
      "64ch head coil multi-band(64chMB)                23.8                  28.6   \n",
      "\n",
      "                                  TDA(012dim300) + SVM TDA(012dim300) + 1dCNN  \n",
      "64ch head coil(64ch)                              42.9                   23.8  \n",
      "64ch head coil multi-band(64chMB)                 23.8                   23.8  \n",
      "64ch head coil(64ch)                              23.8                   14.3  \n",
      "64ch head coil multi-band(64chMB)                 38.1                   33.3  \n",
      "64ch head coil(64ch)                              28.6                   23.8  \n",
      "64ch head coil multi-band(64chMB)                 23.8                     19  \n"
     ]
    }
   ],
   "source": [
    "######## 各被験者識別率 ##########\n",
    "\n",
    "print('--------- all subject list ----------')\n",
    "\n",
    "ac_all = pd.DataFrame(index = [], columns = method_col)\n",
    "\n",
    "for sub in DIR_sub:\n",
    "    \n",
    "    ac = pd.DataFrame(index = ch_index, columns = method_col)\n",
    "    \n",
    "    chCount = 0\n",
    "    \n",
    "    for ch in DIR_ch:\n",
    "        \n",
    "        methodCount = 0\n",
    "        \n",
    "        for file in csvName:\n",
    "        \n",
    "            PATH_ac = PATH + sub + ch + DIR_data + file\n",
    "            \n",
    "            ac_method = pd.read_csv(PATH_ac, index_col = 0, header = 0)\n",
    "            \n",
    "            ac.iat[chCount, methodCount] = ac_method.iloc[0,0]\n",
    "            \n",
    "            methodCount = methodCount + 1\n",
    "            \n",
    "        chCount = chCount + 1\n",
    "        \n",
    "    sub_name = sub.split('/')[0]\n",
    "    AcBar(ac, sub_name)\n",
    "          \n",
    "    ac_all = pd.concat([ac_all, ac], axis = 0) \n",
    "    \n",
    "\n",
    "print(ac_all)\n",
    "ac_all.to_csv(PATH_result + 'ACCURACY_allsub.csv')\n",
    "\n",
    "            "
   ]
  },
  {
   "cell_type": "code",
   "execution_count": 167,
   "metadata": {
    "scrolled": true
   },
   "outputs": [
    {
     "name": "stdout",
     "output_type": "stream",
     "text": [
      "------ all subjects mean --------\n",
      "                                  TimeSeries + SVM TimeSeries + 1dCNN  \\\n",
      "64ch head coil(64ch)                       84.1333            30.1667   \n",
      "64ch head coil multi-band(64chMB)             96.8            90.4667   \n",
      "\n",
      "                                  TDA(01dim100) + SVM TDA(01dim100) + 1dCNN  \\\n",
      "64ch head coil(64ch)                          28.5667               30.1667   \n",
      "64ch head coil multi-band(64chMB)             26.9667               26.9667   \n",
      "\n",
      "                                  TDA(012dim100) + SVM TDA(012dim100) + 1dCNN  \\\n",
      "64ch head coil(64ch)                           30.1667                20.6333   \n",
      "64ch head coil multi-band(64chMB)              26.9667                   23.8   \n",
      "\n",
      "                                  TDA(01dim300) + SVM TDA(01dim300) + 1dCNN  \\\n",
      "64ch head coil(64ch)                          31.7667               31.7333   \n",
      "64ch head coil multi-band(64chMB)             28.5667               28.5667   \n",
      "\n",
      "                                  TDA(012dim300) + SVM TDA(012dim300) + 1dCNN  \n",
      "64ch head coil(64ch)                           31.7667                20.6333  \n",
      "64ch head coil multi-band(64chMB)              28.5667                25.3667  \n",
      "../State-2fe_Active/../State-2fe_Active/Result1110method/ACCURACY_mean.png\n"
     ]
    }
   ],
   "source": [
    "######## 全被験者平均識別率 ############\n",
    "\n",
    "print('------ all subjects mean --------')\n",
    "\n",
    "ac_mean = pd.DataFrame(index = ch_index, columns = method_col)\n",
    "\n",
    "chCount = 0\n",
    "\n",
    "for indexName in ch_index:\n",
    "    \n",
    "    methodCount = 0\n",
    "    \n",
    "    for colName in method_col:\n",
    "        \n",
    "        ac_mean.at[indexName, colName] = np.mean(ac_all.loc[indexName, colName])\n",
    "    \n",
    "\n",
    "print(ac_mean)\n",
    "ac_mean.to_csv(PATH_result + 'ACCURACY_meansub.csv')\n",
    "\n",
    "AcBar(ac_mean, 'mean')\n",
    "        "
   ]
  },
  {
   "cell_type": "code",
   "execution_count": null,
   "metadata": {
    "collapsed": true
   },
   "outputs": [],
   "source": []
  },
  {
   "cell_type": "code",
   "execution_count": null,
   "metadata": {
    "collapsed": true
   },
   "outputs": [],
   "source": []
  }
 ],
 "metadata": {
  "kernelspec": {
   "display_name": "Python 3",
   "language": "python",
   "name": "python3"
  },
  "language_info": {
   "codemirror_mode": {
    "name": "ipython",
    "version": 3
   },
   "file_extension": ".py",
   "mimetype": "text/x-python",
   "name": "python",
   "nbconvert_exporter": "python",
   "pygments_lexer": "ipython3",
   "version": "3.6.1"
  }
 },
 "nbformat": 4,
 "nbformat_minor": 2
}
