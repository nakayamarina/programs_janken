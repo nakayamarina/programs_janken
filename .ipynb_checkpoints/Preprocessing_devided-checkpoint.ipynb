{
 "cells": [
  {
   "cell_type": "markdown",
   "metadata": {},
   "source": [
    "## fMRI時系列データを区切る前処理  \n",
    "----  \n",
    "  \n",
    "引数：raw_tap.csv/raw_rest.csvがあるディレクトリまでのパス  \n",
    "  \n",
    "----\n",
    "  \n",
    "入力：raw_tap.csv/raw_rest.csv  \n",
    "  \n",
    "----\n",
    "  \n",
    "出力： /(分割数)dividedData/raw_ \n",
    "  \n",
    "----\n",
    "Preprocessing_stateでまとめた\n",
    "\n",
    "* tapping時の複数ボクセル（tap_raw.csv）\n",
    "* rest時の複数ボクセル（rest_raw.csv）  \n",
    "  \n",
    "は長い時間のfMRI時系列データであるため，特定の時間で区切る．"
   ]
  },
  {
   "cell_type": "code",
   "execution_count": 66,
   "metadata": {},
   "outputs": [
    {
     "name": "stdout",
     "output_type": "stream",
     "text": [
      "########### Preprocessing_RAWsep.py ##########\n"
     ]
    }
   ],
   "source": [
    "print('########### Preprocessing_RAWsep.py ##########')"
   ]
  },
  {
   "cell_type": "code",
   "execution_count": 113,
   "metadata": {
    "collapsed": true
   },
   "outputs": [],
   "source": [
    "import glob\n",
    "import sys\n",
    "import pandas as pd\n",
    "import matplotlib.pyplot as plt\n",
    "import os"
   ]
  },
  {
   "cell_type": "markdown",
   "metadata": {},
   "source": [
    "コマンドライン引数でraw_tap.csv/raw_rest.csvがあるディレクトリまでのパスを取得"
   ]
  },
  {
   "cell_type": "code",
   "execution_count": 149,
   "metadata": {
    "collapsed": true
   },
   "outputs": [],
   "source": [
    "#args = sys.argv\n",
    "#PATH_pre = args[1]\n",
    "\n",
    "# jupyter notebookのときはここで指定\n",
    "PATH = '../Data_tappingState-2fe_Motor/analysis_by_programs/20171020rn/32ch/RawData/'\n",
    "\n",
    "# TR=3（scan数192）の場合\n",
    "tr3_scan = 96\n",
    "tr3_lists = [1, 2, 3, 4, 6, 8, 12, 16, 26]\n",
    "\n",
    "# TR=1（scan数592）の場合\n",
    "tr1_scan = 296\n",
    "tr1_lists = [1, 2, 4, 8, 37]"
   ]
  },
  {
   "cell_type": "markdown",
   "metadata": {},
   "source": [
    "後で出力するcsvファイルを保存するディレクトリRAWsepを作成"
   ]
  },
  {
   "cell_type": "code",
   "execution_count": 150,
   "metadata": {
    "collapsed": true
   },
   "outputs": [],
   "source": [
    "# RAWsepのディレクトリ名・パス\n",
    "DIR_Rs = PATH + 'RAWsep'\n",
    "PATH_Rs = DIR_Rs + '/' \n",
    "\n",
    "# 既に存在する場合は何もせず，存在していない場合はディレクトリ作成\n",
    "if not os.path.exists(DIR_Rs):\n",
    "    os.mkdir(DIR_Rs)"
   ]
  },
  {
   "cell_type": "markdown",
   "metadata": {},
   "source": [
    "# SeparateData関数"
   ]
  },
  {
   "cell_type": "markdown",
   "metadata": {},
   "source": [
    "引数として区切りたい時系列データをdata，何ブロックに区切るかをsepNumで受け取る．"
   ]
  },
  {
   "cell_type": "code",
   "execution_count": 151,
   "metadata": {
    "collapsed": true
   },
   "outputs": [],
   "source": [
    "def SeparateData(data, sepNum):\n",
    "    \n",
    "    # 1ブロック何scanか\n",
    "    block = int((len(data)) / sepNum)\n",
    "    \n",
    "    for i in range(sepNum):\n",
    "    \n",
    "        # 1ブロックに区切る = 何もしないなのでそのまま返す\n",
    "        if sepNum == 1:\n",
    "            \n",
    "            sepData = data\n",
    "            \n",
    "        else:\n",
    "            \n",
    "            if i == 0:\n",
    "\n",
    "                # 空のデータフレームに追加する方法がわからないので，最初はデータフレームを作るのも兼ねる\n",
    "                sepData = data.iloc[0:block,:]\n",
    "                \n",
    "                # 行名をそのままにしておくと結合の時にめんどくさいのでリセットしておく\n",
    "                sepData.reset_index(drop=True)\n",
    "\n",
    "            else:\n",
    "\n",
    "                # 最初のブロック以降のブロックを抽出\n",
    "                sepData2 = data.iloc[(block*i):(block*(i+1)),:]\n",
    "                \n",
    "                # 行名をそのままにしておくと結合の時にめんどくさいのでリセットしておく\n",
    "                sepData2 = sepData2.reset_index(drop=True)\n",
    "                \n",
    "                # データフレーム結合\n",
    "                sepData = pd.concat([sepData, sepData2], axis=1)\n",
    "                \n",
    "                \n",
    "    return sepData\n",
    "\n",
    "    "
   ]
  },
  {
   "cell_type": "markdown",
   "metadata": {},
   "source": [
    "# main関数"
   ]
  },
  {
   "cell_type": "code",
   "execution_count": 152,
   "metadata": {
    "collapsed": true
   },
   "outputs": [],
   "source": [
    "if __name__ == '__main__':\n",
    "    \n",
    "    # 読み込みたいファイルのパス\n",
    "    PATH_rest = PATH + 'raw_rest.csv'\n",
    "    PATH_tap = PATH + 'raw_tap.csv'\n",
    "    \n",
    "    # csvファイル読み込み\n",
    "    rest = pd.read_csv(PATH_rest, header = 0)\n",
    "    tap = pd.read_csv(PATH_tap, header = 0)\n",
    "\n",
    "    # スキャン数取得\n",
    "    scan = len(rest)\n",
    "    \n",
    "    # 何ブロックに区切るかTRに応じてリストを取得\n",
    "    \n",
    "    if (scan == tr3_scan):\n",
    "    \n",
    "        sep_lists = tr3_lists\n",
    "\n",
    "    elif (scan == tr1_scan):\n",
    "\n",
    "        sep_lists = tr1_lists\n",
    "        \n",
    "        \n",
    "    # リストにある分だけ区切って，csv書きだしを繰り返す\n",
    "    for i in range(len(sep_lists)):\n",
    "        \n",
    "        # DataSeparate関数で区切る\n",
    "        sepRest = SeparateData(rest, sep_lists[i])\n",
    "        \n",
    "        # csv書きだし\n",
    "        PATH_rest = PATH_Rs + str(i) + 'raw_rest_sep' + str(sep_lists[i]) + '.csv'\n",
    "        sepRest.to_csv(PATH_rest, index = False)\n",
    "        \n",
    "        sepTap = SeparateData(tap, sep_lists[i])\n",
    "        \n",
    "        PATH_tap = PATH_Rs + str(i) + 'raw_tap_sep' + str(sep_lists[i]) + '.csv'\n",
    "        sepTap.to_csv(PATH_tap, index = False)\n",
    "        \n",
    "        \n",
    "    "
   ]
  },
  {
   "cell_type": "code",
   "execution_count": null,
   "metadata": {
    "collapsed": true
   },
   "outputs": [],
   "source": []
  }
 ],
 "metadata": {
  "kernelspec": {
   "display_name": "Python 3",
   "language": "python",
   "name": "python3"
  },
  "language_info": {
   "codemirror_mode": {
    "name": "ipython",
    "version": 3
   },
   "file_extension": ".py",
   "mimetype": "text/x-python",
   "name": "python",
   "nbconvert_exporter": "python",
   "pygments_lexer": "ipython3",
   "version": "3.6.1"
  }
 },
 "nbformat": 4,
 "nbformat_minor": 2
}
