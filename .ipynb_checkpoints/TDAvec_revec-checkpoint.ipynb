{
 "cells": [
  {
   "cell_type": "markdown",
   "metadata": {},
   "source": [
    "# 穴の種類を限定"
   ]
  },
  {
   "cell_type": "markdown",
   "metadata": {},
   "source": [
    "---\n",
    "  \n",
    "引数：TDAでベクトル化した(全ての穴の種類をべくとると)csvファイルがあるディレクトリまでのパス  \n",
    "  \n",
    "---\n",
    "  \n",
    "入力：提案手法でベクトル化したcsvファイル\n",
    "\n",
    "---\n",
    "  \n",
    "出力：  \n",
    "* TDAvec_autocor_tap__(パラメータ).csv\n",
    "* TDAvec_autocor_rest_custom_(パラメータ).csv\n",
    "\n",
    "---  \n",
    "\n",
    "0-dim，1-dim，2-dimの穴の情報を含んだベクトルデータにおいて，穴の種類を選択しベクトル化し直す．\n"
   ]
  },
  {
   "cell_type": "code",
   "execution_count": 1,
   "metadata": {
    "collapsed": true
   },
   "outputs": [],
   "source": [
    "import numpy as np\n",
    "import pandas as pd\n",
    "import sys"
   ]
  },
  {
   "cell_type": "markdown",
   "metadata": {},
   "source": [
    "コマンドライン引数で提案手法でベクトル化したcsvファイルがあるディレクトリまでのパスを取得"
   ]
  },
  {
   "cell_type": "code",
   "execution_count": 4,
   "metadata": {
    "collapsed": true
   },
   "outputs": [],
   "source": [
    "#args = sys.argv\n",
    "#PATH = args[1]\n",
    "\n",
    "# jupyter notebookのときはここで指定\n",
    "PATH = '../Data_tappingState-2fe_Moter/analysis_by_programs/20171020rn/12ch/RawData/'\n",
    "\n",
    "# ベクトル化する際の手法\n",
    "PM = 'TDAvec_autocor'\n",
    "\n",
    "# ベクトル化された際のきざみ時間\n",
    "kizamiNumber = [100, 300]"
   ]
  },
  {
   "cell_type": "code",
   "execution_count": 5,
   "metadata": {
    "collapsed": true
   },
   "outputs": [],
   "source": [
    "\n",
    "# ベクトル化する穴の種類\n",
    "# 使わないもの（使う穴が2つの場合）\n",
    "NotHole = 2\n",
    "# or\n",
    "# 使うもの（使う穴が1つの場合）\n",
    "UseHole = 10\n",
    "# を設定する．設定しない場合は10とかにする\n"
   ]
  },
  {
   "cell_type": "markdown",
   "metadata": {},
   "source": [
    "## ReVec関数"
   ]
  },
  {
   "cell_type": "markdown",
   "metadata": {},
   "source": [
    "引数として読み込みたいファイル名をfileで受け取る．  \n",
    "条件に応じて再ベクトル化する（reVec）．  \n",
    "出力ファイル用に条件を含んだファイルの名前を作成しておく（parameters）．  \n",
    "reVec，parametersを返す．"
   ]
  },
  {
   "cell_type": "code",
   "execution_count": 6,
   "metadata": {
    "collapsed": true
   },
   "outputs": [],
   "source": [
    "def ReVec(file, kizamiNumber):\n",
    "    \n",
    "    # 読み込みたいファイルのパス\n",
    "    PATH_file = PATH + file\n",
    "    \n",
    "    # csvファイル読み込み\n",
    "    data = pd.read_csv(PATH_file, header = 0)\n",
    "    \n",
    "    # 条件に応じた穴の種類のベクトル抽出，出力ファイル用の名前作成\n",
    "    if (NotHole == 0 and UseHole == 10) :\n",
    "\n",
    "        reVec = data.iloc[:, kizamiNumber:kizamiNumber*3]\n",
    "        \n",
    "        parameters = str(kizamiNumber) + '_12dim'\n",
    "\n",
    "    elif (NotHole == 1 and UseHole == 10) :\n",
    "\n",
    "        reVec1 = data.iloc[:, 0:kizamiNumber]\n",
    "        reVec2 = data.iloc[:, kizamiNumber*2:kizamiNumber*3]\n",
    "        reVec = pd.concat([reVec1, reVec2], axis = 1)\n",
    "        \n",
    "        parameters = str(kizamiNumber) + '_02dim'\n",
    "\n",
    "    elif (NotHole == 2 and UseHole == 10) :\n",
    "\n",
    "        reVec = data.iloc[:, 0:kizamiNumber*2]\n",
    "        \n",
    "        parameters = str(kizamiNumber) + '_01dim'\n",
    "\n",
    "    elif (UseHole == 0 and NotHole == 10) :  \n",
    "\n",
    "        reVec = data.iloc[:, 0:kizamiNumber]\n",
    "        \n",
    "        parameters = str(kizamiNumber) + '_0dim'\n",
    "\n",
    "    elif (UseHole == 1 and NotHole == 10) :\n",
    "\n",
    "        reVec = data.iloc[:, kizamiNumber:kizamiNumber*2]\n",
    "        \n",
    "        parameters = str(kizamiNumber) + '_1dim'\n",
    "\n",
    "    elif (UseHole == 2 and NotHole == 10) :\n",
    "\n",
    "        reVec = data.iloc[:, kizamiNumber*2:kizamiNumber*3]\n",
    "        parameters = str(kizamiNumber) + '_2dim'\n",
    "\n",
    "    return reVec, parameters\n"
   ]
  },
  {
   "cell_type": "markdown",
   "metadata": {},
   "source": [
    "## main関数"
   ]
  },
  {
   "cell_type": "code",
   "execution_count": 9,
   "metadata": {},
   "outputs": [
    {
     "name": "stdout",
     "output_type": "stream",
     "text": [
      "../Data_tappingState-2fe_Moter/analysis_by_programs/20171020rn/12ch/RawData/TDAvec_autocor_rest_custom_100_01dim.csv\n",
      "../Data_tappingState-2fe_Moter/analysis_by_programs/20171020rn/12ch/RawData/TDAvec_autocor_tap_custom_100_01dim.csv\n",
      "../Data_tappingState-2fe_Moter/analysis_by_programs/20171020rn/12ch/RawData/TDAvec_autocor_rest_custom_300_01dim.csv\n",
      "../Data_tappingState-2fe_Moter/analysis_by_programs/20171020rn/12ch/RawData/TDAvec_autocor_tap_custom_300_01dim.csv\n"
     ]
    }
   ],
   "source": [
    "if __name__ == '__main__':\n",
    "    \n",
    "    for kizami in range(len(kizamiNumber)):\n",
    "        \n",
    "        # ベクトル化し直すデータ\n",
    "        ReVec_restData = 'TDAvec_autocor_rest_custom_' + str(kizamiNumber[kizami]) + '_012dim.csv'\n",
    "        ReVec_tapData = 'TDAvec_autocor_tap_custom_' + str(kizamiNumber[kizami]) + '_012dim.csv'\n",
    "\n",
    "        newRestVec, paraName = ReVec(ReVec_restData, kizamiNumber[kizami])\n",
    "        newTapVec, paraName = ReVec(ReVec_tapData, kizamiNumber[kizami])\n",
    "\n",
    "        # csv書き出し\n",
    "        PATH_newRest = PATH + PM + '_rest_custom_' + paraName + '.csv'\n",
    "        newRestVec.to_csv(PATH_newRest, index = False, header = True)\n",
    "        print(PATH_newRest)\n",
    "\n",
    "        PATH_newTap = PATH + PM + '_tap_custom_' + paraName + '.csv'\n",
    "        newTapVec.to_csv(PATH_newTap, index = False, header = True)\n",
    "        print(PATH_newTap)\n"
   ]
  },
  {
   "cell_type": "code",
   "execution_count": null,
   "metadata": {
    "collapsed": true
   },
   "outputs": [],
   "source": []
  },
  {
   "cell_type": "code",
   "execution_count": null,
   "metadata": {
    "collapsed": true
   },
   "outputs": [],
   "source": []
  }
 ],
 "metadata": {
  "kernelspec": {
   "display_name": "Python 3",
   "language": "python",
   "name": "python3"
  },
  "language_info": {
   "codemirror_mode": {
    "name": "ipython",
    "version": 3
   },
   "file_extension": ".py",
   "mimetype": "text/x-python",
   "name": "python",
   "nbconvert_exporter": "python",
   "pygments_lexer": "ipython3",
   "version": "3.6.1"
  }
 },
 "nbformat": 4,
 "nbformat_minor": 2
}
