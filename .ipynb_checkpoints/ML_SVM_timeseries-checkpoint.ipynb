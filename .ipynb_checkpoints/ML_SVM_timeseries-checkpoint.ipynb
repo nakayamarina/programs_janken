{
 "cells": [
  {
   "cell_type": "markdown",
   "metadata": {},
   "source": [
    "# SVMによる学習と識別性能評価（時系列解析）"
   ]
  },
  {
   "cell_type": "markdown",
   "metadata": {},
   "source": [
    "---\n",
    "  \n",
    "引数：raw_rock.csv/raw_scissor.csv/raw_paper.csvがあるディレクトリまでのパス  \n",
    "  \n",
    "---\n",
    "  \n",
    "入力：raw_rock.csv/raw_scissor.csv/raw_paper.csv\n",
    "\n",
    "---\n",
    "  \n",
    "出力：ACCURACY[loo or k_cv]_timeseries_SVM.csv　識別性能評価結果一覧  \n",
    "\n",
    "---  \n",
    "\n",
    "生データをSVMを用いて学習し，交差検証法（k-分割交差検証，leave-one-out交差検証）を用いて識別性能評価を行う．  \n",
    "ベクトル：各ボクセルの時系列データ"
   ]
  },
  {
   "cell_type": "code",
   "execution_count": 32,
   "metadata": {},
   "outputs": [
    {
     "name": "stdout",
     "output_type": "stream",
     "text": [
      "############## ML_SVL_timeseries.py program excution ##############\n"
     ]
    }
   ],
   "source": [
    "print('############## ML_SVL_timeseries.py program excution ##############')"
   ]
  },
  {
   "cell_type": "code",
   "execution_count": 23,
   "metadata": {
    "collapsed": true
   },
   "outputs": [],
   "source": [
    "import numpy as np\n",
    "import pandas as pd\n",
    "import sys\n",
    "\n",
    "from sklearn import cross_validation\n",
    "from sklearn import svm\n",
    "from sklearn.model_selection import train_test_split"
   ]
  },
  {
   "cell_type": "markdown",
   "metadata": {},
   "source": [
    "コマンドライン引数でraw_rock.csv/raw_scissor.csv/raw_paper.csvファイルがあるディレクトリまでのパスを取得"
   ]
  },
  {
   "cell_type": "code",
   "execution_count": 34,
   "metadata": {
    "collapsed": true
   },
   "outputs": [],
   "source": [
    "#args = sys.argv\n",
    "#PATH = args[1]\n",
    "\n",
    "# jupyter notebookのときはここで指定\n",
    "PATH = '../State-2fe_Active/20181029rn/64ch/RawData/'\n",
    "\n",
    "# 検証手法\n",
    "col_name = 'leave-one-out'"
   ]
  },
  {
   "cell_type": "markdown",
   "metadata": {},
   "source": [
    "## SVM_LOO関数"
   ]
  },
  {
   "cell_type": "markdown",
   "metadata": {},
   "source": [
    "引数として教師データをX，ラベルをyで受け取る．  \n",
    "交差検証法の一つleave-one-out交差検証で識別精度評価を行う．\n",
    "\n",
    "* (1個をテストデータ，残りを教師データにして学習・評価) * すべてのデータ個\n",
    "* 得られたすべてのデータ個の評価結果（識別率）の平均を求めてパーセントに直す\n",
    "* 評価結果（識別率）をmain関数に返す"
   ]
  },
  {
   "cell_type": "code",
   "execution_count": 26,
   "metadata": {
    "collapsed": true
   },
   "outputs": [],
   "source": [
    "def SVM_LOO(X, y):\n",
    "\n",
    "    LOOscore = np.zeros(len(X))\n",
    "    \n",
    "    # 1個をテストデータ，残りを教師データにして学習・評価\n",
    "    # すべてのデータに対して行う\n",
    "    for i in range(len(X)):\n",
    "        \n",
    "        print('------ ' + str(i + 1) + ' / ' + str(len(X)) + '回 -----')\n",
    "\n",
    "        # テストデータ\n",
    "        X_test = X[i].reshape(1, -1)\n",
    "        y_test = y[i].reshape(1, -1)\n",
    "\n",
    "        # テストデータとして使用するデータを除いた教師データを作成\n",
    "        X_train = np.delete(X, i, 0)\n",
    "        y_train = np.delete(y, i, 0)\n",
    "\n",
    "        # 線形SVMのインスタンスを生成\n",
    "        model = svm.SVC(kernel = 'linear', C = 1)\n",
    "        \n",
    "        # モデルの学習\n",
    "        model.fit(X_train, y_train)\n",
    "\n",
    "        # 評価結果（識別率）を格納\n",
    "        LOOscore[i] = model.score(X_test, y_test)\n",
    "\n",
    "        \n",
    "    # 評価結果（識別率）の平均を求める\n",
    "    result = LOOscore.mean()\n",
    "    \n",
    "    # パーセントに直す\n",
    "    result = round(result * 100, 1)\n",
    "    \n",
    "    print(str(LOOscore) + '\\n')\n",
    "\n",
    "    return result"
   ]
  },
  {
   "cell_type": "markdown",
   "metadata": {},
   "source": [
    "## SVM_kCV関数"
   ]
  },
  {
   "cell_type": "markdown",
   "metadata": {},
   "source": [
    "引数として教師データをX，ラベルをyで受け取る．  \n",
    "交差検証法の一つk-分割交差検証で識別精度評価を行う．\n",
    "\n",
    "* 学習\n",
    "* (k分割し，1グループをテストデータ，残りグループを教師データにして評価) * k\n",
    "* 得られたk個の評価結果（識別率）の平均を求めてパーセントに直す\n",
    "* 評価結果（識別率）をmain関数に返す"
   ]
  },
  {
   "cell_type": "code",
   "execution_count": 27,
   "metadata": {
    "collapsed": true
   },
   "outputs": [],
   "source": [
    "def SVM_kCV(X, y):\n",
    "    \n",
    "    # 線形SVMのインスタンスを生成\n",
    "    model = svm.SVC(kernel = 'linear', C = 1)\n",
    "    \n",
    "    # k分割し，1グループをテストデータ，残りグループを教師データにして評価\n",
    "    # すべてのグループに対して行う\n",
    "    # 評価結果（識別率）を格納\n",
    "    CVscore = cross_validation.cross_val_score(model, X, y, cv = cv_k)\n",
    "    \n",
    "    # 評価結果（識別率）の平均を求める\n",
    "    result = CVscore.mean()\n",
    "    \n",
    "    # パーセントに直す\n",
    "    result = round(result * 100, 1)\n",
    "\n",
    "    print('k = ' + str(cv_k) + '：' + str(CVscore))\n",
    "    \n",
    "    return result"
   ]
  },
  {
   "cell_type": "markdown",
   "metadata": {},
   "source": [
    "## TrainingData関数 \n",
    "引数として読み込みたいタスクごとのファイル名をfile_rock/file_scissor/file_paperで受け取る． \n",
    "* 機械学習にかけれるようにデータのベクトル化とラベルを作成\n",
    "* ベクトル化したデータとラベルをmain関数に返す"
   ]
  },
  {
   "cell_type": "code",
   "execution_count": 35,
   "metadata": {
    "collapsed": true
   },
   "outputs": [],
   "source": [
    "def TrainingData(file_rock, file_scissor, file_paper):\n",
    "    \n",
    "    # 読み込みたいファイルのパス\n",
    "    PATH_rock = PATH + file_rock\n",
    "    PATH_scissor = PATH + file_scissor\n",
    "    PATH_paper = PATH + file_paper\n",
    "\n",
    "    # csvファイル読み込み（転地することでベクトルを時系列データとする）\n",
    "    rock = pd.read_csv(PATH_rock, header = 0)\n",
    "    rock = rock.T\n",
    "    \n",
    "    scissor = pd.read_csv(PATH_scissor, header = 0)\n",
    "    scissor = scissor.T\n",
    "    \n",
    "    paper = pd.read_csv(PATH_paper, header = 0)\n",
    "    paper = paper.T\n",
    "\n",
    "    # 各タスクのデータを縦結合\n",
    "    all_data = pd.concat([rock, scissor, paper], axis = 0)\n",
    "\n",
    "    # ベクトル化\n",
    "    X = all_data.as_matrix()\n",
    "\n",
    "    # ラベル作成 rock = 0, scissor = 1, paper = 2\n",
    "    label_rock = np.zeros(len(rock.index))\n",
    "    label_scissor = np.ones(len(scissor.index))\n",
    "    label_paper = np.ones(len(paper.index)) * 2\n",
    "\n",
    "    y = np.r_[label_rock, label_scissor, label_paper]\n",
    "\n",
    "    \n",
    "    return X, y\n",
    "    "
   ]
  },
  {
   "cell_type": "markdown",
   "metadata": {},
   "source": [
    "## main関数"
   ]
  },
  {
   "cell_type": "code",
   "execution_count": 29,
   "metadata": {
    "collapsed": true
   },
   "outputs": [],
   "source": [
    "if __name__ == '__main__':\n",
    "    \n",
    "    # データとラベルの準備\n",
    "    data, labels = TrainingData('raw_rock.csv', 'raw_scissor.csv', 'raw_paper.csv')\n",
    "        "
   ]
  },
  {
   "cell_type": "code",
   "execution_count": 36,
   "metadata": {},
   "outputs": [
    {
     "name": "stdout",
     "output_type": "stream",
     "text": [
      "leave-one-out Cross-Validation\n",
      "------ 0 / 21回 -----\n",
      "------ 1 / 21回 -----\n",
      "------ 2 / 21回 -----\n",
      "------ 3 / 21回 -----\n",
      "------ 4 / 21回 -----\n",
      "------ 5 / 21回 -----\n",
      "------ 6 / 21回 -----\n",
      "------ 7 / 21回 -----\n",
      "------ 8 / 21回 -----\n",
      "------ 9 / 21回 -----\n",
      "------ 10 / 21回 -----\n",
      "------ 11 / 21回 -----\n",
      "------ 12 / 21回 -----\n",
      "------ 13 / 21回 -----\n",
      "------ 14 / 21回 -----\n",
      "------ 15 / 21回 -----\n",
      "------ 16 / 21回 -----\n",
      "------ 17 / 21回 -----\n",
      "------ 18 / 21回 -----\n",
      "------ 19 / 21回 -----\n",
      "------ 20 / 21回 -----\n",
      "[ 1.  1.  1.  1.  1.  0.  0.  1.  1.  1.  1.  0.  0.  1.  1.  1.  1.  1.\n",
      "  1.  1.  0.]\n",
      "\n",
      "                  leave-one-out\n",
      "TimeSeries + SVM           76.2\n"
     ]
    }
   ],
   "source": [
    "    \n",
    "    # 学習とleave-one-out交差検証法\n",
    "    \n",
    "    print('leave-one-out Cross-Validation')\n",
    "    \n",
    "    result_loo = SVM_LOO(data, labels)\n",
    "    \n",
    "    # データフレーム化\n",
    "    result_loo = pd.DataFrame({col_name:[result_loo]}, index = ['TimeSeries + SVM'])\n",
    "    print(result_loo)\n",
    "\n"
   ]
  },
  {
   "cell_type": "code",
   "execution_count": 31,
   "metadata": {
    "collapsed": true
   },
   "outputs": [],
   "source": [
    "    # csv書き出し\n",
    "    PATH_RESULT = PATH + 'ACCURACY[loo]_timeseries_SVM.csv'\n",
    "    result_loo.to_csv(PATH_RESULT, index = True)"
   ]
  },
  {
   "cell_type": "code",
   "execution_count": null,
   "metadata": {
    "collapsed": true
   },
   "outputs": [],
   "source": []
  }
 ],
 "metadata": {
  "kernelspec": {
   "display_name": "Python 3",
   "language": "python",
   "name": "python3"
  },
  "language_info": {
   "codemirror_mode": {
    "name": "ipython",
    "version": 3
   },
   "file_extension": ".py",
   "mimetype": "text/x-python",
   "name": "python",
   "nbconvert_exporter": "python",
   "pygments_lexer": "ipython3",
   "version": "3.6.1"
  }
 },
 "nbformat": 4,
 "nbformat_minor": 2
}
